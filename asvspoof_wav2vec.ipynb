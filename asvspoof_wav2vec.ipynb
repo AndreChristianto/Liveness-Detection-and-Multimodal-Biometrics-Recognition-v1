{
 "cells": [
  {
   "cell_type": "code",
   "execution_count": 1,
   "metadata": {},
   "outputs": [
    {
     "name": "stderr",
     "output_type": "stream",
     "text": [
      "c:\\Users\\andre\\anaconda3\\envs\\python-cpu\\Lib\\site-packages\\tqdm\\auto.py:21: TqdmWarning: IProgress not found. Please update jupyter and ipywidgets. See https://ipywidgets.readthedocs.io/en/stable/user_install.html\n",
      "  from .autonotebook import tqdm as notebook_tqdm\n"
     ]
    }
   ],
   "source": [
    "### Import Libraries\n",
    "import pandas as pd\n",
    "import numpy as np\n",
    "import os\n",
    "import librosa\n",
    "import matplotlib.pyplot as plt\n",
    "from transformers import Wav2Vec2Processor, Wav2Vec2Model\n",
    "import torch.nn as nn"
   ]
  },
  {
   "cell_type": "code",
   "execution_count": 2,
   "metadata": {},
   "outputs": [],
   "source": [
    "protocol_dev_file = '../Dataset/ASVSpoof/actual/protocol_V2/ASVspoof2017_V2_dev.trl.txt'\n",
    "protocol_train_file = '../Dataset/ASVSpoof/actual/protocol_V2/ASVspoof2017_V2_train.trn.txt'\n",
    "protocol_eval_file = '../Dataset/ASVSpoof/actual/protocol_V2/ASVspoof2017_V2_eval.trl.txt'"
   ]
  },
  {
   "cell_type": "code",
   "execution_count": 3,
   "metadata": {},
   "outputs": [],
   "source": [
    "folder_dev_file = '../Dataset/ASVSpoof/actual/ASVspoof2017_V2_dev'\n",
    "folder_train_file = '../Dataset/ASVSpoof/actual/ASVspoof2017_V2_train'\n",
    "folder_eval_file = '../Dataset/ASVSpoof/actual/ASVspoof2017_V2_eval'"
   ]
  },
  {
   "cell_type": "code",
   "execution_count": 4,
   "metadata": {},
   "outputs": [],
   "source": [
    "### Load Protocol Files\n",
    "df_dev = pd.read_csv(protocol_dev_file, sep=' ')\n",
    "df_train = pd.read_csv(protocol_train_file, sep=' ')\n",
    "df_eval = pd.read_csv(protocol_eval_file, sep=' ')"
   ]
  },
  {
   "cell_type": "code",
   "execution_count": 5,
   "metadata": {},
   "outputs": [],
   "source": [
    "# Map labels\n",
    "dev_labels = df_dev['type'].map({'genuine': 1, 'spoof': 0})\n",
    "train_labels = df_train['type'].map({'genuine': 1, 'spoof': 0})\n",
    "eval_labels = df_eval['type'].map({'genuine': 1, 'spoof': 0})"
   ]
  },
  {
   "cell_type": "code",
   "execution_count": 6,
   "metadata": {},
   "outputs": [
    {
     "name": "stderr",
     "output_type": "stream",
     "text": [
      "Some weights of Wav2Vec2Model were not initialized from the model checkpoint at facebook/wav2vec2-base-960h and are newly initialized: ['wav2vec2.masked_spec_embed']\n",
      "You should probably TRAIN this model on a down-stream task to be able to use it for predictions and inference.\n"
     ]
    }
   ],
   "source": [
    "### Wav2Vec2 Setup\n",
    "processor = Wav2Vec2Processor.from_pretrained(\"facebook/wav2vec2-base-960h\")\n",
    "wav2vec_model = Wav2Vec2Model.from_pretrained(\"facebook/wav2vec2-base-960h\")"
   ]
  },
  {
   "cell_type": "code",
   "execution_count": 7,
   "metadata": {},
   "outputs": [],
   "source": [
    "# Custom Model\n",
    "class Wav2Vec2ForLivenessDetection(nn.Module):\n",
    "    def __init__(self, wav2vec_model):\n",
    "        super(Wav2Vec2ForLivenessDetection, self).__init__()\n",
    "        self.wav2vec = wav2vec_model\n",
    "        self.classifier = nn.Linear(wav2vec_model.config.hidden_size, 2)\n",
    "\n",
    "    def forward(self, input_values):\n",
    "        outputs = self.wav2vec(input_values).last_hidden_state\n",
    "        pooled_output = outputs.mean(dim=1)\n",
    "        logits = self.classifier(pooled_output)\n",
    "        return logits"
   ]
  },
  {
   "cell_type": "code",
   "execution_count": 8,
   "metadata": {},
   "outputs": [],
   "source": [
    "### Audio Duration Calculation\n",
    "def get_audio_durations(folder):\n",
    "    durations = []\n",
    "    for file in os.listdir(folder):\n",
    "        file_path = os.path.join(folder, file)\n",
    "        audio, sr = librosa.load(file_path, sr=None)\n",
    "        duration = librosa.get_duration(y=audio, sr=sr)\n",
    "        durations.append(duration)\n",
    "    return durations"
   ]
  },
  {
   "cell_type": "code",
   "execution_count": 9,
   "metadata": {},
   "outputs": [
    {
     "name": "stdout",
     "output_type": "stream",
     "text": [
      "Median audio duration: 2.59 seconds\n"
     ]
    }
   ],
   "source": [
    "# Get durations\n",
    "train_durations = get_audio_durations(folder_train_file)\n",
    "median_duration = np.median(train_durations)\n",
    "print(f\"Median audio duration: {median_duration:.2f} seconds\")"
   ]
  },
  {
   "cell_type": "code",
   "execution_count": 10,
   "metadata": {},
   "outputs": [],
   "source": [
    "### Audio Normalization\n",
    "def normalize_audio(audio):\n",
    "    return audio / np.max(np.abs(audio))\n",
    "\n",
    "### Padding and Truncating\n",
    "def pad_and_truncate_audio(audio, target_duration, sample_rate):\n",
    "    target_length = int(target_duration * sample_rate)\n",
    "    if len(audio) < target_length:\n",
    "        return np.pad(audio, (0, target_length - len(audio)), mode='constant')\n",
    "    return audio[:target_length]\n",
    "\n",
    "### Process Audio\n",
    "def process_audio_files(folder):\n",
    "    processed_audios = []\n",
    "    for file in os.listdir(folder):\n",
    "        file_path = os.path.join(folder, file)\n",
    "        audio, sr = librosa.load(file_path, sr=16000)\n",
    "        \n",
    "        # Normalize, Pad & Truncate\n",
    "        audio = normalize_audio(audio)\n",
    "        audio = pad_and_truncate_audio(audio, median_duration, sr)\n",
    "        \n",
    "        processed_audios.append(audio)\n",
    "    return processed_audios"
   ]
  },
  {
   "cell_type": "code",
   "execution_count": 11,
   "metadata": {},
   "outputs": [],
   "source": [
    "# # Apply processing to datasets\n",
    "# train_audios = process_audio_files(folder_train_file)\n",
    "# eval_audios = process_audio_files(folder_eval_file)\n",
    "# dev_audios = process_audio_files(folder_dev_file)"
   ]
  },
  {
   "cell_type": "code",
   "execution_count": 12,
   "metadata": {},
   "outputs": [],
   "source": [
    "# # Save Processed Audio\n",
    "# np.save('./Voice Liveness/train_audios.npy', train_audios)\n",
    "# np.save('./Voice Liveness/eval_audios.npy', eval_audios)\n",
    "# np.save('./Voice Liveness/dev_audios.npy', dev_audios)"
   ]
  },
  {
   "cell_type": "code",
   "execution_count": 13,
   "metadata": {},
   "outputs": [],
   "source": [
    "# Load saved audios\n",
    "train_audios = np.load('./Voice Liveness/Audio data read/train_audios.npy', allow_pickle=True)\n",
    "eval_audios = np.load('./Voice Liveness/Audio data read/eval_audios.npy', allow_pickle=True)\n",
    "dev_audios = np.load('./Voice Liveness/Audio data read/dev_audios.npy', allow_pickle=True)"
   ]
  },
  {
   "cell_type": "code",
   "execution_count": 14,
   "metadata": {},
   "outputs": [],
   "source": [
    "import torch"
   ]
  },
  {
   "cell_type": "code",
   "execution_count": 15,
   "metadata": {},
   "outputs": [],
   "source": [
    "def preprocess_audio(audio, processor, sample_rate=16000):\n",
    "    inputs = processor(audio, sampling_rate=sample_rate, return_tensors=\"pt\", padding=True)\n",
    "    return inputs.input_values.squeeze(0)  # remove extra batch dimension"
   ]
  },
  {
   "cell_type": "code",
   "execution_count": 16,
   "metadata": {},
   "outputs": [],
   "source": [
    "train_inputs = [preprocess_audio(audio, processor) for audio in train_audios]\n",
    "eval_inputs = [preprocess_audio(audio, processor) for audio in eval_audios]\n",
    "dev_inputs = [preprocess_audio(audio, processor) for audio in dev_audios]"
   ]
  },
  {
   "cell_type": "code",
   "execution_count": 17,
   "metadata": {},
   "outputs": [],
   "source": [
    "from torch.utils.data import Dataset, DataLoader"
   ]
  },
  {
   "cell_type": "code",
   "execution_count": 18,
   "metadata": {},
   "outputs": [],
   "source": [
    "class AudioDataset(Dataset):\n",
    "    def __init__(self, audio_inputs, labels):\n",
    "        self.audio_inputs = audio_inputs\n",
    "        self.labels = labels\n",
    "\n",
    "    def __len__(self):\n",
    "        return len(self.audio_inputs)\n",
    "\n",
    "    def __getitem__(self, idx):\n",
    "        return self.audio_inputs[idx], torch.tensor(self.labels[idx])"
   ]
  },
  {
   "cell_type": "code",
   "execution_count": 19,
   "metadata": {},
   "outputs": [],
   "source": [
    "# Initialize datasets\n",
    "train_dataset = AudioDataset(train_inputs, train_labels)\n",
    "eval_dataset = AudioDataset(eval_inputs, eval_labels)\n",
    "dev_dataset = AudioDataset(dev_inputs, dev_labels)"
   ]
  },
  {
   "cell_type": "code",
   "execution_count": 20,
   "metadata": {},
   "outputs": [],
   "source": [
    "# Create DataLoaders\n",
    "train_loader = DataLoader(train_dataset, batch_size=8)\n",
    "eval_loader = DataLoader(eval_dataset, batch_size=8)\n",
    "dev_loader = DataLoader(dev_dataset, batch_size=8)"
   ]
  },
  {
   "cell_type": "code",
   "execution_count": 21,
   "metadata": {},
   "outputs": [],
   "source": [
    "import torch.optim as optim"
   ]
  },
  {
   "cell_type": "code",
   "execution_count": 22,
   "metadata": {},
   "outputs": [],
   "source": [
    "# Initialize the model, optimizer, and loss function\n",
    "model = Wav2Vec2ForLivenessDetection(wav2vec_model)\n",
    "optimizer = optim.Adam(model.parameters(), lr=0.000005)\n",
    "criterion = nn.CrossEntropyLoss()"
   ]
  },
  {
   "cell_type": "code",
   "execution_count": 23,
   "metadata": {},
   "outputs": [],
   "source": [
    "# Training function\n",
    "def train(model, train_loader, optimizer, criterion, device):\n",
    "    model.train()\n",
    "    total_loss = 0\n",
    "    for audio_inputs, labels in train_loader:\n",
    "        audio_inputs, labels = audio_inputs.to(device), labels.to(device)\n",
    "        \n",
    "        # Forward pass\n",
    "        logits = model(audio_inputs)\n",
    "        loss = criterion(logits, labels)\n",
    "        \n",
    "        # Backward pass and optimization\n",
    "        optimizer.zero_grad()\n",
    "        loss.backward()\n",
    "        optimizer.step()\n",
    "        \n",
    "        total_loss += loss.item()\n",
    "    return total_loss / len(train_loader)\n",
    "\n",
    "def evaluate(model, eval_loader, criterion, device):\n",
    "    model.eval()\n",
    "    total_loss = 0\n",
    "    correct = 0\n",
    "    with torch.no_grad():\n",
    "        for audio_inputs, labels in eval_loader:\n",
    "            audio_inputs, labels = audio_inputs.to(device), labels.to(device)\n",
    "            logits = model(audio_inputs)\n",
    "            loss = criterion(logits, labels)\n",
    "            total_loss += loss.item()\n",
    "            \n",
    "            # Calculate accuracy\n",
    "            preds = torch.argmax(logits, dim=1)\n",
    "            correct += (preds == labels).sum().item()\n",
    "    \n",
    "    avg_loss = total_loss / len(eval_loader)\n",
    "    accuracy = correct / len(eval_loader.dataset)\n",
    "    return avg_loss, accuracy"
   ]
  },
  {
   "cell_type": "code",
   "execution_count": 24,
   "metadata": {},
   "outputs": [
    {
     "name": "stderr",
     "output_type": "stream",
     "text": [
      "c:\\Users\\andre\\anaconda3\\envs\\python-cpu\\Lib\\site-packages\\transformers\\models\\wav2vec2\\modeling_wav2vec2.py:863: UserWarning: 1Torch was not compiled with flash attention. (Triggered internally at C:\\actions-runner\\_work\\pytorch\\pytorch\\builder\\windows\\pytorch\\aten\\src\\ATen\\native\\transformers\\cuda\\sdp_utils.cpp:555.)\n",
      "  attn_output = torch.nn.functional.scaled_dot_product_attention(\n"
     ]
    },
    {
     "name": "stdout",
     "output_type": "stream",
     "text": [
      "Epoch 1/10\n",
      "Train Loss: 0.3482\n",
      "Dev Loss: 1.4732 | Dev Accuracy: 0.5556\n",
      "Epoch 2/10\n",
      "Train Loss: 0.5442\n",
      "Dev Loss: 1.3321 | Dev Accuracy: 0.5556\n",
      "Epoch 3/10\n",
      "Train Loss: 0.4642\n",
      "Dev Loss: 1.3635 | Dev Accuracy: 0.5556\n",
      "Epoch 4/10\n",
      "Train Loss: 0.4745\n",
      "Dev Loss: 1.2803 | Dev Accuracy: 0.5556\n",
      "Epoch 5/10\n",
      "Train Loss: 0.5959\n",
      "Dev Loss: 1.2397 | Dev Accuracy: 0.5556\n",
      "Epoch 6/10\n",
      "Train Loss: 0.5945\n",
      "Dev Loss: 1.1848 | Dev Accuracy: 0.5556\n",
      "Epoch 7/10\n",
      "Train Loss: 0.5226\n",
      "Dev Loss: 1.2378 | Dev Accuracy: 0.5556\n",
      "Epoch 8/10\n",
      "Train Loss: 0.6522\n",
      "Dev Loss: 1.0512 | Dev Accuracy: 0.5556\n",
      "Epoch 9/10\n",
      "Train Loss: 0.5498\n",
      "Dev Loss: 1.1448 | Dev Accuracy: 0.5556\n",
      "Epoch 10/10\n",
      "Train Loss: 0.6077\n",
      "Dev Loss: 1.0652 | Dev Accuracy: 0.5556\n"
     ]
    }
   ],
   "source": [
    "device = torch.device(\"cuda\" if torch.cuda.is_available() else \"cpu\")\n",
    "model.to(device)  # Ensure the model is on the correct device\n",
    "\n",
    "# Initialize lists to store losses for plotting\n",
    "train_losses = []\n",
    "dev_losses = []\n",
    "\n",
    "# Training loop\n",
    "num_epochs = 10\n",
    "for epoch in range(num_epochs):\n",
    "    train_loss = train(model, train_loader, optimizer, criterion, device)\n",
    "    dev_loss, dev_accuracy = evaluate(model, dev_loader, criterion, device)\n",
    "    \n",
    "    # Append losses for plotting\n",
    "    train_losses.append(train_loss)\n",
    "    dev_losses.append(dev_loss)\n",
    "    \n",
    "    print(f\"Epoch {epoch + 1}/{num_epochs}\")\n",
    "    print(f\"Train Loss: {train_loss:.4f}\")\n",
    "    print(f\"Dev Loss: {dev_loss:.4f} | Dev Accuracy: {dev_accuracy:.4f}\")"
   ]
  },
  {
   "cell_type": "code",
   "execution_count": 25,
   "metadata": {},
   "outputs": [
    {
     "data": {
      "image/png": "[encoded data removed]",
      "text/plain": [
       "<Figure size 1200x600 with 1 Axes>"
      ]
     },
     "metadata": {},
     "output_type": "display_data"
    }
   ],
   "source": [
    "# Plotting the training and dev losses\n",
    "plt.figure(figsize=(12, 6))\n",
    "plt.plot(range(1, num_epochs + 1), train_losses, label='Training Loss', marker='o')\n",
    "plt.plot(range(1, num_epochs + 1), dev_losses, label='Development Loss', marker='o')\n",
    "plt.title('Training and Development Loss Over Epochs')\n",
    "plt.xlabel('Epochs')\n",
    "plt.ylabel('Loss')\n",
    "plt.legend()\n",
    "plt.grid()\n",
    "plt.show()"
   ]
  },
  {
   "cell_type": "code",
   "execution_count": 26,
   "metadata": {},
   "outputs": [
    {
     "data": {
      "text/plain": [
       "Wav2Vec2ForLivenessDetection(\n",
       "  (wav2vec): Wav2Vec2Model(\n",
       "    (feature_extractor): Wav2Vec2FeatureEncoder(\n",
       "      (conv_layers): ModuleList(\n",
       "        (0): Wav2Vec2GroupNormConvLayer(\n",
       "          (conv): Conv1d(1, 512, kernel_size=(10,), stride=(5,), bias=False)\n",
       "          (activation): GELUActivation()\n",
       "          (layer_norm): GroupNorm(512, 512, eps=1e-05, affine=True)\n",
       "        )\n",
       "        (1-4): 4 x Wav2Vec2NoLayerNormConvLayer(\n",
       "          (conv): Conv1d(512, 512, kernel_size=(3,), stride=(2,), bias=False)\n",
       "          (activation): GELUActivation()\n",
       "        )\n",
       "        (5-6): 2 x Wav2Vec2NoLayerNormConvLayer(\n",
       "          (conv): Conv1d(512, 512, kernel_size=(2,), stride=(2,), bias=False)\n",
       "          (activation): GELUActivation()\n",
       "        )\n",
       "      )\n",
       "    )\n",
       "    (feature_projection): Wav2Vec2FeatureProjection(\n",
       "      (layer_norm): LayerNorm((512,), eps=1e-05, elementwise_affine=True)\n",
       "      (projection): Linear(in_features=512, out_features=768, bias=True)\n",
       "      (dropout): Dropout(p=0.1, inplace=False)\n",
       "    )\n",
       "    (encoder): Wav2Vec2Encoder(\n",
       "      (pos_conv_embed): Wav2Vec2PositionalConvEmbedding(\n",
       "        (conv): ParametrizedConv1d(\n",
       "          768, 768, kernel_size=(128,), stride=(1,), padding=(64,), groups=16\n",
       "          (parametrizations): ModuleDict(\n",
       "            (weight): ParametrizationList(\n",
       "              (0): _WeightNorm()\n",
       "            )\n",
       "          )\n",
       "        )\n",
       "        (padding): Wav2Vec2SamePadLayer()\n",
       "        (activation): GELUActivation()\n",
       "      )\n",
       "      (layer_norm): LayerNorm((768,), eps=1e-05, elementwise_affine=True)\n",
       "      (dropout): Dropout(p=0.1, inplace=False)\n",
       "      (layers): ModuleList(\n",
       "        (0-11): 12 x Wav2Vec2EncoderLayer(\n",
       "          (attention): Wav2Vec2SdpaAttention(\n",
       "            (k_proj): Linear(in_features=768, out_features=768, bias=True)\n",
       "            (v_proj): Linear(in_features=768, out_features=768, bias=True)\n",
       "            (q_proj): Linear(in_features=768, out_features=768, bias=True)\n",
       "            (out_proj): Linear(in_features=768, out_features=768, bias=True)\n",
       "          )\n",
       "          (dropout): Dropout(p=0.1, inplace=False)\n",
       "          (layer_norm): LayerNorm((768,), eps=1e-05, elementwise_affine=True)\n",
       "          (feed_forward): Wav2Vec2FeedForward(\n",
       "            (intermediate_dropout): Dropout(p=0.1, inplace=False)\n",
       "            (intermediate_dense): Linear(in_features=768, out_features=3072, bias=True)\n",
       "            (intermediate_act_fn): GELUActivation()\n",
       "            (output_dense): Linear(in_features=3072, out_features=768, bias=True)\n",
       "            (output_dropout): Dropout(p=0.1, inplace=False)\n",
       "          )\n",
       "          (final_layer_norm): LayerNorm((768,), eps=1e-05, elementwise_affine=True)\n",
       "        )\n",
       "      )\n",
       "    )\n",
       "  )\n",
       "  (classifier): Linear(in_features=768, out_features=2, bias=True)\n",
       ")"
      ]
     },
     "execution_count": 26,
     "metadata": {},
     "output_type": "execute_result"
    }
   ],
   "source": [
    "model.eval()"
   ]
  },
  {
   "cell_type": "code",
   "execution_count": 27,
   "metadata": {},
   "outputs": [],
   "source": [
    "all_preds = []\n",
    "all_labels = []\n",
    "\n",
    "with torch.no_grad():\n",
    "    for audio_inputs, labels in eval_loader:\n",
    "        audio_inputs, labels = audio_inputs.to(device), labels.to(device)\n",
    "        logits = model(audio_inputs)\n",
    "        preds = torch.argmax(logits, dim=1)\n",
    "        \n",
    "        all_preds.extend(preds.cpu().numpy())\n",
    "        all_labels.extend(labels.cpu().numpy())"
   ]
  },
  {
   "cell_type": "code",
   "execution_count": 29,
   "metadata": {},
   "outputs": [],
   "source": [
    "from sklearn.metrics import confusion_matrix, classification_report\n",
    "import seaborn as sns"
   ]
  },
  {
   "cell_type": "code",
   "execution_count": 34,
   "metadata": {},
   "outputs": [
    {
     "name": "stderr",
     "output_type": "stream",
     "text": [
      "c:\\Users\\andre\\anaconda3\\envs\\python-cpu\\Lib\\site-packages\\sklearn\\metrics\\_classification.py:1531: UndefinedMetricWarning: Precision is ill-defined and being set to 0.0 in labels with no predicted samples. Use `zero_division` parameter to control this behavior.\n",
      "  _warn_prf(average, modifier, f\"{metric.capitalize()} is\", len(result))\n",
      "c:\\Users\\andre\\anaconda3\\envs\\python-cpu\\Lib\\site-packages\\sklearn\\metrics\\_classification.py:1531: UndefinedMetricWarning: Precision is ill-defined and being set to 0.0 in labels with no predicted samples. Use `zero_division` parameter to control this behavior.\n",
      "  _warn_prf(average, modifier, f\"{metric.capitalize()} is\", len(result))\n",
      "c:\\Users\\andre\\anaconda3\\envs\\python-cpu\\Lib\\site-packages\\sklearn\\metrics\\_classification.py:1531: UndefinedMetricWarning: Precision is ill-defined and being set to 0.0 in labels with no predicted samples. Use `zero_division` parameter to control this behavior.\n",
      "  _warn_prf(average, modifier, f\"{metric.capitalize()} is\", len(result))\n"
     ]
    }
   ],
   "source": [
    "# Confusion matrix and classification report\n",
    "conf_matrix = confusion_matrix(all_labels, all_preds)\n",
    "report = classification_report(all_labels, all_preds, target_names=['Spoof', 'Genuine'])"
   ]
  },
  {
   "cell_type": "code",
   "execution_count": 35,
   "metadata": {},
   "outputs": [
    {
     "data": {
      "image/png": "[encoded data removed]",
      "text/plain": [
       "<Figure size 800x600 with 2 Axes>"
      ]
     },
     "metadata": {},
     "output_type": "display_data"
    }
   ],
   "source": [
    "# Display confusion matrix\n",
    "plt.figure(figsize=(8, 6))\n",
    "sns.heatmap(conf_matrix, annot=True, fmt=\"d\", cmap=\"Blues\", xticklabels=['Spoof', 'Genuine'], yticklabels=['Spoof', 'Genuine'])\n",
    "plt.title(\"Confusion Matrix on Evaluation Data\")\n",
    "plt.xlabel(\"Predicted Labels\")\n",
    "plt.ylabel(\"True Labels\")\n",
    "plt.show()"
   ]
  },
  {
   "cell_type": "code",
   "execution_count": 36,
   "metadata": {},
   "outputs": [
    {
     "name": "stdout",
     "output_type": "stream",
     "text": [
      "Classification Report on Evaluation Data:\n",
      "              precision    recall  f1-score   support\n",
      "\n",
      "       Spoof       0.90      1.00      0.95     12008\n",
      "     Genuine       0.00      0.00      0.00      1298\n",
      "\n",
      "    accuracy                           0.90     13306\n",
      "   macro avg       0.45      0.50      0.47     13306\n",
      "weighted avg       0.81      0.90      0.86     13306\n",
      "\n"
     ]
    }
   ],
   "source": [
    "# Display classification report\n",
    "print(\"Classification Report on Evaluation Data:\")\n",
    "print(report)"
   ]
  }
 ],
 "metadata": {
  "kernelspec": {
   "display_name": "python-cpu",
   "language": "python",
   "name": "python3"
  },
  "language_info": {
   "codemirror_mode": {
    "name": "ipython",
    "version": 3
   },
   "file_extension": ".py",
   "mimetype": "text/x-python",
   "name": "python",
   "nbconvert_exporter": "python",
   "pygments_lexer": "ipython3",
   "version": "3.12.5"
  }
 },
 "nbformat": 4,
 "nbformat_minor": 2
}
