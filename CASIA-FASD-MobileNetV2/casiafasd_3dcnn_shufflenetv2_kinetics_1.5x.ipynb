{
 "cells": [
  {
   "cell_type": "markdown",
   "metadata": {},
   "source": [
    "### Import Efficient 3DCNN MobileNetV2"
   ]
  },
  {
   "cell_type": "code",
   "execution_count": 1,
   "metadata": {},
   "outputs": [],
   "source": [
    "import sys\n",
    "sys.path.append('../Face Liveness/Models/Efficient-3DCNNs-master/models')"
   ]
  },
  {
   "cell_type": "code",
   "execution_count": 2,
   "metadata": {},
   "outputs": [],
   "source": [
    "from shufflenetv2 import ShuffleNetV2"
   ]
  },
  {
   "cell_type": "code",
   "execution_count": 3,
   "metadata": {},
   "outputs": [],
   "source": [
    "# Create an instance of the MobileNetV2 model\n",
    "model = ShuffleNetV2(num_classes=600, sample_size=112, width_mult=1.5)"
   ]
  },
  {
   "cell_type": "code",
   "execution_count": 4,
   "metadata": {},
   "outputs": [
    {
     "data": {
      "text/plain": [
       "ShuffleNetV2(\n",
       "  (conv1): Sequential(\n",
       "    (0): Conv3d(3, 24, kernel_size=(3, 3, 3), stride=(1, 2, 2), padding=(1, 1, 1), bias=False)\n",
       "    (1): BatchNorm3d(24, eps=1e-05, momentum=0.1, affine=True, track_running_stats=True)\n",
       "    (2): ReLU(inplace=True)\n",
       "  )\n",
       "  (maxpool): MaxPool3d(kernel_size=3, stride=2, padding=1, dilation=1, ceil_mode=False)\n",
       "  (features): Sequential(\n",
       "    (0): InvertedResidual(\n",
       "      (banch1): Sequential(\n",
       "        (0): Conv3d(24, 24, kernel_size=(3, 3, 3), stride=(2, 2, 2), padding=(1, 1, 1), groups=24, bias=False)\n",
       "        (1): BatchNorm3d(24, eps=1e-05, momentum=0.1, affine=True, track_running_stats=True)\n",
       "        (2): Conv3d(24, 88, kernel_size=(1, 1, 1), stride=(1, 1, 1), bias=False)\n",
       "        (3): BatchNorm3d(88, eps=1e-05, momentum=0.1, affine=True, track_running_stats=True)\n",
       "        (4): ReLU(inplace=True)\n",
       "      )\n",
       "      (banch2): Sequential(\n",
       "        (0): Conv3d(24, 88, kernel_size=(1, 1, 1), stride=(1, 1, 1), bias=False)\n",
       "        (1): BatchNorm3d(88, eps=1e-05, momentum=0.1, affine=True, track_running_stats=True)\n",
       "        (2): ReLU(inplace=True)\n",
       "        (3): Conv3d(88, 88, kernel_size=(3, 3, 3), stride=(2, 2, 2), padding=(1, 1, 1), groups=88, bias=False)\n",
       "        (4): BatchNorm3d(88, eps=1e-05, momentum=0.1, affine=True, track_running_stats=True)\n",
       "        (5): Conv3d(88, 88, kernel_size=(1, 1, 1), stride=(1, 1, 1), bias=False)\n",
       "        (6): BatchNorm3d(88, eps=1e-05, momentum=0.1, affine=True, track_running_stats=True)\n",
       "        (7): ReLU(inplace=True)\n",
       "      )\n",
       "    )\n",
       "    (1): InvertedResidual(\n",
       "      (banch2): Sequential(\n",
       "        (0): Conv3d(88, 88, kernel_size=(1, 1, 1), stride=(1, 1, 1), bias=False)\n",
       "        (1): BatchNorm3d(88, eps=1e-05, momentum=0.1, affine=True, track_running_stats=True)\n",
       "        (2): ReLU(inplace=True)\n",
       "        (3): Conv3d(88, 88, kernel_size=(3, 3, 3), stride=(1, 1, 1), padding=(1, 1, 1), groups=88, bias=False)\n",
       "        (4): BatchNorm3d(88, eps=1e-05, momentum=0.1, affine=True, track_running_stats=True)\n",
       "        (5): Conv3d(88, 88, kernel_size=(1, 1, 1), stride=(1, 1, 1), bias=False)\n",
       "        (6): BatchNorm3d(88, eps=1e-05, momentum=0.1, affine=True, track_running_stats=True)\n",
       "        (7): ReLU(inplace=True)\n",
       "      )\n",
       "    )\n",
       "    (2): InvertedResidual(\n",
       "      (banch2): Sequential(\n",
       "        (0): Conv3d(88, 88, kernel_size=(1, 1, 1), stride=(1, 1, 1), bias=False)\n",
       "        (1): BatchNorm3d(88, eps=1e-05, momentum=0.1, affine=True, track_running_stats=True)\n",
       "        (2): ReLU(inplace=True)\n",
       "        (3): Conv3d(88, 88, kernel_size=(3, 3, 3), stride=(1, 1, 1), padding=(1, 1, 1), groups=88, bias=False)\n",
       "        (4): BatchNorm3d(88, eps=1e-05, momentum=0.1, affine=True, track_running_stats=True)\n",
       "        (5): Conv3d(88, 88, kernel_size=(1, 1, 1), stride=(1, 1, 1), bias=False)\n",
       "        (6): BatchNorm3d(88, eps=1e-05, momentum=0.1, affine=True, track_running_stats=True)\n",
       "        (7): ReLU(inplace=True)\n",
       "      )\n",
       "    )\n",
       "    (3): InvertedResidual(\n",
       "      (banch2): Sequential(\n",
       "        (0): Conv3d(88, 88, kernel_size=(1, 1, 1), stride=(1, 1, 1), bias=False)\n",
       "        (1): BatchNorm3d(88, eps=1e-05, momentum=0.1, affine=True, track_running_stats=True)\n",
       "        (2): ReLU(inplace=True)\n",
       "        (3): Conv3d(88, 88, kernel_size=(3, 3, 3), stride=(1, 1, 1), padding=(1, 1, 1), groups=88, bias=False)\n",
       "        (4): BatchNorm3d(88, eps=1e-05, momentum=0.1, affine=True, track_running_stats=True)\n",
       "        (5): Conv3d(88, 88, kernel_size=(1, 1, 1), stride=(1, 1, 1), bias=False)\n",
       "        (6): BatchNorm3d(88, eps=1e-05, momentum=0.1, affine=True, track_running_stats=True)\n",
       "        (7): ReLU(inplace=True)\n",
       "      )\n",
       "    )\n",
       "    (4): InvertedResidual(\n",
       "      (banch1): Sequential(\n",
       "        (0): Conv3d(176, 176, kernel_size=(3, 3, 3), stride=(2, 2, 2), padding=(1, 1, 1), groups=176, bias=False)\n",
       "        (1): BatchNorm3d(176, eps=1e-05, momentum=0.1, affine=True, track_running_stats=True)\n",
       "        (2): Conv3d(176, 176, kernel_size=(1, 1, 1), stride=(1, 1, 1), bias=False)\n",
       "        (3): BatchNorm3d(176, eps=1e-05, momentum=0.1, affine=True, track_running_stats=True)\n",
       "        (4): ReLU(inplace=True)\n",
       "      )\n",
       "      (banch2): Sequential(\n",
       "        (0): Conv3d(176, 176, kernel_size=(1, 1, 1), stride=(1, 1, 1), bias=False)\n",
       "        (1): BatchNorm3d(176, eps=1e-05, momentum=0.1, affine=True, track_running_stats=True)\n",
       "        (2): ReLU(inplace=True)\n",
       "        (3): Conv3d(176, 176, kernel_size=(3, 3, 3), stride=(2, 2, 2), padding=(1, 1, 1), groups=176, bias=False)\n",
       "        (4): BatchNorm3d(176, eps=1e-05, momentum=0.1, affine=True, track_running_stats=True)\n",
       "        (5): Conv3d(176, 176, kernel_size=(1, 1, 1), stride=(1, 1, 1), bias=False)\n",
       "        (6): BatchNorm3d(176, eps=1e-05, momentum=0.1, affine=True, track_running_stats=True)\n",
       "        (7): ReLU(inplace=True)\n",
       "      )\n",
       "    )\n",
       "    (5): InvertedResidual(\n",
       "      (banch2): Sequential(\n",
       "        (0): Conv3d(176, 176, kernel_size=(1, 1, 1), stride=(1, 1, 1), bias=False)\n",
       "        (1): BatchNorm3d(176, eps=1e-05, momentum=0.1, affine=True, track_running_stats=True)\n",
       "        (2): ReLU(inplace=True)\n",
       "        (3): Conv3d(176, 176, kernel_size=(3, 3, 3), stride=(1, 1, 1), padding=(1, 1, 1), groups=176, bias=False)\n",
       "        (4): BatchNorm3d(176, eps=1e-05, momentum=0.1, affine=True, track_running_stats=True)\n",
       "        (5): Conv3d(176, 176, kernel_size=(1, 1, 1), stride=(1, 1, 1), bias=False)\n",
       "        (6): BatchNorm3d(176, eps=1e-05, momentum=0.1, affine=True, track_running_stats=True)\n",
       "        (7): ReLU(inplace=True)\n",
       "      )\n",
       "    )\n",
       "    (6): InvertedResidual(\n",
       "      (banch2): Sequential(\n",
       "        (0): Conv3d(176, 176, kernel_size=(1, 1, 1), stride=(1, 1, 1), bias=False)\n",
       "        (1): BatchNorm3d(176, eps=1e-05, momentum=0.1, affine=True, track_running_stats=True)\n",
       "        (2): ReLU(inplace=True)\n",
       "        (3): Conv3d(176, 176, kernel_size=(3, 3, 3), stride=(1, 1, 1), padding=(1, 1, 1), groups=176, bias=False)\n",
       "        (4): BatchNorm3d(176, eps=1e-05, momentum=0.1, affine=True, track_running_stats=True)\n",
       "        (5): Conv3d(176, 176, kernel_size=(1, 1, 1), stride=(1, 1, 1), bias=False)\n",
       "        (6): BatchNorm3d(176, eps=1e-05, momentum=0.1, affine=True, track_running_stats=True)\n",
       "        (7): ReLU(inplace=True)\n",
       "      )\n",
       "    )\n",
       "    (7): InvertedResidual(\n",
       "      (banch2): Sequential(\n",
       "        (0): Conv3d(176, 176, kernel_size=(1, 1, 1), stride=(1, 1, 1), bias=False)\n",
       "        (1): BatchNorm3d(176, eps=1e-05, momentum=0.1, affine=True, track_running_stats=True)\n",
       "        (2): ReLU(inplace=True)\n",
       "        (3): Conv3d(176, 176, kernel_size=(3, 3, 3), stride=(1, 1, 1), padding=(1, 1, 1), groups=176, bias=False)\n",
       "        (4): BatchNorm3d(176, eps=1e-05, momentum=0.1, affine=True, track_running_stats=True)\n",
       "        (5): Conv3d(176, 176, kernel_size=(1, 1, 1), stride=(1, 1, 1), bias=False)\n",
       "        (6): BatchNorm3d(176, eps=1e-05, momentum=0.1, affine=True, track_running_stats=True)\n",
       "        (7): ReLU(inplace=True)\n",
       "      )\n",
       "    )\n",
       "    (8): InvertedResidual(\n",
       "      (banch2): Sequential(\n",
       "        (0): Conv3d(176, 176, kernel_size=(1, 1, 1), stride=(1, 1, 1), bias=False)\n",
       "        (1): BatchNorm3d(176, eps=1e-05, momentum=0.1, affine=True, track_running_stats=True)\n",
       "        (2): ReLU(inplace=True)\n",
       "        (3): Conv3d(176, 176, kernel_size=(3, 3, 3), stride=(1, 1, 1), padding=(1, 1, 1), groups=176, bias=False)\n",
       "        (4): BatchNorm3d(176, eps=1e-05, momentum=0.1, affine=True, track_running_stats=True)\n",
       "        (5): Conv3d(176, 176, kernel_size=(1, 1, 1), stride=(1, 1, 1), bias=False)\n",
       "        (6): BatchNorm3d(176, eps=1e-05, momentum=0.1, affine=True, track_running_stats=True)\n",
       "        (7): ReLU(inplace=True)\n",
       "      )\n",
       "    )\n",
       "    (9): InvertedResidual(\n",
       "      (banch2): Sequential(\n",
       "        (0): Conv3d(176, 176, kernel_size=(1, 1, 1), stride=(1, 1, 1), bias=False)\n",
       "        (1): BatchNorm3d(176, eps=1e-05, momentum=0.1, affine=True, track_running_stats=True)\n",
       "        (2): ReLU(inplace=True)\n",
       "        (3): Conv3d(176, 176, kernel_size=(3, 3, 3), stride=(1, 1, 1), padding=(1, 1, 1), groups=176, bias=False)\n",
       "        (4): BatchNorm3d(176, eps=1e-05, momentum=0.1, affine=True, track_running_stats=True)\n",
       "        (5): Conv3d(176, 176, kernel_size=(1, 1, 1), stride=(1, 1, 1), bias=False)\n",
       "        (6): BatchNorm3d(176, eps=1e-05, momentum=0.1, affine=True, track_running_stats=True)\n",
       "        (7): ReLU(inplace=True)\n",
       "      )\n",
       "    )\n",
       "    (10): InvertedResidual(\n",
       "      (banch2): Sequential(\n",
       "        (0): Conv3d(176, 176, kernel_size=(1, 1, 1), stride=(1, 1, 1), bias=False)\n",
       "        (1): BatchNorm3d(176, eps=1e-05, momentum=0.1, affine=True, track_running_stats=True)\n",
       "        (2): ReLU(inplace=True)\n",
       "        (3): Conv3d(176, 176, kernel_size=(3, 3, 3), stride=(1, 1, 1), padding=(1, 1, 1), groups=176, bias=False)\n",
       "        (4): BatchNorm3d(176, eps=1e-05, momentum=0.1, affine=True, track_running_stats=True)\n",
       "        (5): Conv3d(176, 176, kernel_size=(1, 1, 1), stride=(1, 1, 1), bias=False)\n",
       "        (6): BatchNorm3d(176, eps=1e-05, momentum=0.1, affine=True, track_running_stats=True)\n",
       "        (7): ReLU(inplace=True)\n",
       "      )\n",
       "    )\n",
       "    (11): InvertedResidual(\n",
       "      (banch2): Sequential(\n",
       "        (0): Conv3d(176, 176, kernel_size=(1, 1, 1), stride=(1, 1, 1), bias=False)\n",
       "        (1): BatchNorm3d(176, eps=1e-05, momentum=0.1, affine=True, track_running_stats=True)\n",
       "        (2): ReLU(inplace=True)\n",
       "        (3): Conv3d(176, 176, kernel_size=(3, 3, 3), stride=(1, 1, 1), padding=(1, 1, 1), groups=176, bias=False)\n",
       "        (4): BatchNorm3d(176, eps=1e-05, momentum=0.1, affine=True, track_running_stats=True)\n",
       "        (5): Conv3d(176, 176, kernel_size=(1, 1, 1), stride=(1, 1, 1), bias=False)\n",
       "        (6): BatchNorm3d(176, eps=1e-05, momentum=0.1, affine=True, track_running_stats=True)\n",
       "        (7): ReLU(inplace=True)\n",
       "      )\n",
       "    )\n",
       "    (12): InvertedResidual(\n",
       "      (banch1): Sequential(\n",
       "        (0): Conv3d(352, 352, kernel_size=(3, 3, 3), stride=(2, 2, 2), padding=(1, 1, 1), groups=352, bias=False)\n",
       "        (1): BatchNorm3d(352, eps=1e-05, momentum=0.1, affine=True, track_running_stats=True)\n",
       "        (2): Conv3d(352, 352, kernel_size=(1, 1, 1), stride=(1, 1, 1), bias=False)\n",
       "        (3): BatchNorm3d(352, eps=1e-05, momentum=0.1, affine=True, track_running_stats=True)\n",
       "        (4): ReLU(inplace=True)\n",
       "      )\n",
       "      (banch2): Sequential(\n",
       "        (0): Conv3d(352, 352, kernel_size=(1, 1, 1), stride=(1, 1, 1), bias=False)\n",
       "        (1): BatchNorm3d(352, eps=1e-05, momentum=0.1, affine=True, track_running_stats=True)\n",
       "        (2): ReLU(inplace=True)\n",
       "        (3): Conv3d(352, 352, kernel_size=(3, 3, 3), stride=(2, 2, 2), padding=(1, 1, 1), groups=352, bias=False)\n",
       "        (4): BatchNorm3d(352, eps=1e-05, momentum=0.1, affine=True, track_running_stats=True)\n",
       "        (5): Conv3d(352, 352, kernel_size=(1, 1, 1), stride=(1, 1, 1), bias=False)\n",
       "        (6): BatchNorm3d(352, eps=1e-05, momentum=0.1, affine=True, track_running_stats=True)\n",
       "        (7): ReLU(inplace=True)\n",
       "      )\n",
       "    )\n",
       "    (13): InvertedResidual(\n",
       "      (banch2): Sequential(\n",
       "        (0): Conv3d(352, 352, kernel_size=(1, 1, 1), stride=(1, 1, 1), bias=False)\n",
       "        (1): BatchNorm3d(352, eps=1e-05, momentum=0.1, affine=True, track_running_stats=True)\n",
       "        (2): ReLU(inplace=True)\n",
       "        (3): Conv3d(352, 352, kernel_size=(3, 3, 3), stride=(1, 1, 1), padding=(1, 1, 1), groups=352, bias=False)\n",
       "        (4): BatchNorm3d(352, eps=1e-05, momentum=0.1, affine=True, track_running_stats=True)\n",
       "        (5): Conv3d(352, 352, kernel_size=(1, 1, 1), stride=(1, 1, 1), bias=False)\n",
       "        (6): BatchNorm3d(352, eps=1e-05, momentum=0.1, affine=True, track_running_stats=True)\n",
       "        (7): ReLU(inplace=True)\n",
       "      )\n",
       "    )\n",
       "    (14): InvertedResidual(\n",
       "      (banch2): Sequential(\n",
       "        (0): Conv3d(352, 352, kernel_size=(1, 1, 1), stride=(1, 1, 1), bias=False)\n",
       "        (1): BatchNorm3d(352, eps=1e-05, momentum=0.1, affine=True, track_running_stats=True)\n",
       "        (2): ReLU(inplace=True)\n",
       "        (3): Conv3d(352, 352, kernel_size=(3, 3, 3), stride=(1, 1, 1), padding=(1, 1, 1), groups=352, bias=False)\n",
       "        (4): BatchNorm3d(352, eps=1e-05, momentum=0.1, affine=True, track_running_stats=True)\n",
       "        (5): Conv3d(352, 352, kernel_size=(1, 1, 1), stride=(1, 1, 1), bias=False)\n",
       "        (6): BatchNorm3d(352, eps=1e-05, momentum=0.1, affine=True, track_running_stats=True)\n",
       "        (7): ReLU(inplace=True)\n",
       "      )\n",
       "    )\n",
       "    (15): InvertedResidual(\n",
       "      (banch2): Sequential(\n",
       "        (0): Conv3d(352, 352, kernel_size=(1, 1, 1), stride=(1, 1, 1), bias=False)\n",
       "        (1): BatchNorm3d(352, eps=1e-05, momentum=0.1, affine=True, track_running_stats=True)\n",
       "        (2): ReLU(inplace=True)\n",
       "        (3): Conv3d(352, 352, kernel_size=(3, 3, 3), stride=(1, 1, 1), padding=(1, 1, 1), groups=352, bias=False)\n",
       "        (4): BatchNorm3d(352, eps=1e-05, momentum=0.1, affine=True, track_running_stats=True)\n",
       "        (5): Conv3d(352, 352, kernel_size=(1, 1, 1), stride=(1, 1, 1), bias=False)\n",
       "        (6): BatchNorm3d(352, eps=1e-05, momentum=0.1, affine=True, track_running_stats=True)\n",
       "        (7): ReLU(inplace=True)\n",
       "      )\n",
       "    )\n",
       "  )\n",
       "  (conv_last): Sequential(\n",
       "    (0): Conv3d(704, 1024, kernel_size=(1, 1, 1), stride=(1, 1, 1), bias=False)\n",
       "    (1): BatchNorm3d(1024, eps=1e-05, momentum=0.1, affine=True, track_running_stats=True)\n",
       "    (2): ReLU(inplace=True)\n",
       "  )\n",
       "  (classifier): Sequential(\n",
       "    (0): Dropout(p=0.2, inplace=False)\n",
       "    (1): Linear(in_features=1024, out_features=600, bias=True)\n",
       "  )\n",
       ")"
      ]
     },
     "execution_count": 4,
     "metadata": {},
     "output_type": "execute_result"
    }
   ],
   "source": [
    "model.eval()"
   ]
  },
  {
   "cell_type": "markdown",
   "metadata": {},
   "source": [
    "### Load the pre-train / checkpoint"
   ]
  },
  {
   "cell_type": "code",
   "execution_count": 5,
   "metadata": {},
   "outputs": [
    {
     "name": "stderr",
     "output_type": "stream",
     "text": [
      "C:\\Users\\andre\\AppData\\Local\\Temp\\ipykernel_16888\\3330516624.py:6: FutureWarning: You are using `torch.load` with `weights_only=False` (the current default value), which uses the default pickle module implicitly. It is possible to construct malicious pickle data which will execute arbitrary code during unpickling (See https://github.com/pytorch/pytorch/blob/main/SECURITY.md#untrusted-models for more details). In a future release, the default value for `weights_only` will be flipped to `True`. This limits the functions that could be executed during unpickling. Arbitrary objects will no longer be allowed to be loaded via this mode unless they are explicitly allowlisted by the user via `torch.serialization.add_safe_globals`. We recommend you start setting `weights_only=True` for any use case where you don't have full control of the loaded file. Please open an issue on GitHub for any issues related to this experimental feature.\n",
      "  checkpoint = torch.load(checkpoint_path)\n"
     ]
    }
   ],
   "source": [
    "import torch\n",
    "\n",
    "checkpoint_path = './kinetics_shufflenetv2_1.5x_RGB_16_best.pth'\n",
    "\n",
    "# Load the checkpoint\n",
    "checkpoint = torch.load(checkpoint_path)"
   ]
  },
  {
   "cell_type": "code",
   "execution_count": 6,
   "metadata": {},
   "outputs": [
    {
     "data": {
      "text/plain": [
       "<All keys matched successfully>"
      ]
     },
     "execution_count": 6,
     "metadata": {},
     "output_type": "execute_result"
    }
   ],
   "source": [
    "# Remove the 'module.' prefix from the state_dict keys\n",
    "new_state_dict = {}\n",
    "for k, v in checkpoint['state_dict'].items():\n",
    "    new_key = k.replace('module.', '')  # Remove 'module.' from key names\n",
    "    new_state_dict[new_key] = v\n",
    "\n",
    "# Load the new state_dict into your model\n",
    "model.load_state_dict(new_state_dict, strict=False)"
   ]
  },
  {
   "cell_type": "code",
   "execution_count": 7,
   "metadata": {},
   "outputs": [
    {
     "name": "stdout",
     "output_type": "stream",
     "text": [
      "Original classifier: Sequential(\n",
      "  (0): Dropout(p=0.2, inplace=False)\n",
      "  (1): Linear(in_features=1024, out_features=600, bias=True)\n",
      ")\n"
     ]
    }
   ],
   "source": [
    "# Print the original classifier structure\n",
    "print(\"Original classifier:\", model.classifier)"
   ]
  },
  {
   "cell_type": "code",
   "execution_count": 8,
   "metadata": {},
   "outputs": [
    {
     "name": "stdout",
     "output_type": "stream",
     "text": [
      "Input features for the classifier: 1024\n"
     ]
    }
   ],
   "source": [
    "# Access the last layer in the classifier to get in_features\n",
    "if isinstance(model.classifier, torch.nn.Sequential):\n",
    "    # Assuming the last layer is a Linear layer\n",
    "    last_layer = model.classifier[-1]  # Access the last layer in the Sequential\n",
    "    in_features = last_layer.in_features  # Get the number of input features\n",
    "else:\n",
    "    in_features = model.classifier.in_features  # If it's a Linear layer directly\n",
    "\n",
    "print(\"Input features for the classifier:\", in_features)"
   ]
  },
  {
   "cell_type": "markdown",
   "metadata": {},
   "source": [
    "### Replace last layer / classifier with dummy to make feature extractor"
   ]
  },
  {
   "cell_type": "code",
   "execution_count": 9,
   "metadata": {},
   "outputs": [],
   "source": [
    "# Replace the classifier with a dummy layer (optional)\n",
    "model.classifier = torch.nn.Identity()  # Use Identity to keep the output as features"
   ]
  },
  {
   "cell_type": "code",
   "execution_count": 10,
   "metadata": {},
   "outputs": [
    {
     "name": "stdout",
     "output_type": "stream",
     "text": [
      "Updated classifier: Identity()\n"
     ]
    }
   ],
   "source": [
    "# Print the new classifier structure\n",
    "print(\"Updated classifier:\", model.classifier)"
   ]
  },
  {
   "cell_type": "code",
   "execution_count": 11,
   "metadata": {},
   "outputs": [
    {
     "data": {
      "text/plain": [
       "ShuffleNetV2(\n",
       "  (conv1): Sequential(\n",
       "    (0): Conv3d(3, 24, kernel_size=(3, 3, 3), stride=(1, 2, 2), padding=(1, 1, 1), bias=False)\n",
       "    (1): BatchNorm3d(24, eps=1e-05, momentum=0.1, affine=True, track_running_stats=True)\n",
       "    (2): ReLU(inplace=True)\n",
       "  )\n",
       "  (maxpool): MaxPool3d(kernel_size=3, stride=2, padding=1, dilation=1, ceil_mode=False)\n",
       "  (features): Sequential(\n",
       "    (0): InvertedResidual(\n",
       "      (banch1): Sequential(\n",
       "        (0): Conv3d(24, 24, kernel_size=(3, 3, 3), stride=(2, 2, 2), padding=(1, 1, 1), groups=24, bias=False)\n",
       "        (1): BatchNorm3d(24, eps=1e-05, momentum=0.1, affine=True, track_running_stats=True)\n",
       "        (2): Conv3d(24, 88, kernel_size=(1, 1, 1), stride=(1, 1, 1), bias=False)\n",
       "        (3): BatchNorm3d(88, eps=1e-05, momentum=0.1, affine=True, track_running_stats=True)\n",
       "        (4): ReLU(inplace=True)\n",
       "      )\n",
       "      (banch2): Sequential(\n",
       "        (0): Conv3d(24, 88, kernel_size=(1, 1, 1), stride=(1, 1, 1), bias=False)\n",
       "        (1): BatchNorm3d(88, eps=1e-05, momentum=0.1, affine=True, track_running_stats=True)\n",
       "        (2): ReLU(inplace=True)\n",
       "        (3): Conv3d(88, 88, kernel_size=(3, 3, 3), stride=(2, 2, 2), padding=(1, 1, 1), groups=88, bias=False)\n",
       "        (4): BatchNorm3d(88, eps=1e-05, momentum=0.1, affine=True, track_running_stats=True)\n",
       "        (5): Conv3d(88, 88, kernel_size=(1, 1, 1), stride=(1, 1, 1), bias=False)\n",
       "        (6): BatchNorm3d(88, eps=1e-05, momentum=0.1, affine=True, track_running_stats=True)\n",
       "        (7): ReLU(inplace=True)\n",
       "      )\n",
       "    )\n",
       "    (1): InvertedResidual(\n",
       "      (banch2): Sequential(\n",
       "        (0): Conv3d(88, 88, kernel_size=(1, 1, 1), stride=(1, 1, 1), bias=False)\n",
       "        (1): BatchNorm3d(88, eps=1e-05, momentum=0.1, affine=True, track_running_stats=True)\n",
       "        (2): ReLU(inplace=True)\n",
       "        (3): Conv3d(88, 88, kernel_size=(3, 3, 3), stride=(1, 1, 1), padding=(1, 1, 1), groups=88, bias=False)\n",
       "        (4): BatchNorm3d(88, eps=1e-05, momentum=0.1, affine=True, track_running_stats=True)\n",
       "        (5): Conv3d(88, 88, kernel_size=(1, 1, 1), stride=(1, 1, 1), bias=False)\n",
       "        (6): BatchNorm3d(88, eps=1e-05, momentum=0.1, affine=True, track_running_stats=True)\n",
       "        (7): ReLU(inplace=True)\n",
       "      )\n",
       "    )\n",
       "    (2): InvertedResidual(\n",
       "      (banch2): Sequential(\n",
       "        (0): Conv3d(88, 88, kernel_size=(1, 1, 1), stride=(1, 1, 1), bias=False)\n",
       "        (1): BatchNorm3d(88, eps=1e-05, momentum=0.1, affine=True, track_running_stats=True)\n",
       "        (2): ReLU(inplace=True)\n",
       "        (3): Conv3d(88, 88, kernel_size=(3, 3, 3), stride=(1, 1, 1), padding=(1, 1, 1), groups=88, bias=False)\n",
       "        (4): BatchNorm3d(88, eps=1e-05, momentum=0.1, affine=True, track_running_stats=True)\n",
       "        (5): Conv3d(88, 88, kernel_size=(1, 1, 1), stride=(1, 1, 1), bias=False)\n",
       "        (6): BatchNorm3d(88, eps=1e-05, momentum=0.1, affine=True, track_running_stats=True)\n",
       "        (7): ReLU(inplace=True)\n",
       "      )\n",
       "    )\n",
       "    (3): InvertedResidual(\n",
       "      (banch2): Sequential(\n",
       "        (0): Conv3d(88, 88, kernel_size=(1, 1, 1), stride=(1, 1, 1), bias=False)\n",
       "        (1): BatchNorm3d(88, eps=1e-05, momentum=0.1, affine=True, track_running_stats=True)\n",
       "        (2): ReLU(inplace=True)\n",
       "        (3): Conv3d(88, 88, kernel_size=(3, 3, 3), stride=(1, 1, 1), padding=(1, 1, 1), groups=88, bias=False)\n",
       "        (4): BatchNorm3d(88, eps=1e-05, momentum=0.1, affine=True, track_running_stats=True)\n",
       "        (5): Conv3d(88, 88, kernel_size=(1, 1, 1), stride=(1, 1, 1), bias=False)\n",
       "        (6): BatchNorm3d(88, eps=1e-05, momentum=0.1, affine=True, track_running_stats=True)\n",
       "        (7): ReLU(inplace=True)\n",
       "      )\n",
       "    )\n",
       "    (4): InvertedResidual(\n",
       "      (banch1): Sequential(\n",
       "        (0): Conv3d(176, 176, kernel_size=(3, 3, 3), stride=(2, 2, 2), padding=(1, 1, 1), groups=176, bias=False)\n",
       "        (1): BatchNorm3d(176, eps=1e-05, momentum=0.1, affine=True, track_running_stats=True)\n",
       "        (2): Conv3d(176, 176, kernel_size=(1, 1, 1), stride=(1, 1, 1), bias=False)\n",
       "        (3): BatchNorm3d(176, eps=1e-05, momentum=0.1, affine=True, track_running_stats=True)\n",
       "        (4): ReLU(inplace=True)\n",
       "      )\n",
       "      (banch2): Sequential(\n",
       "        (0): Conv3d(176, 176, kernel_size=(1, 1, 1), stride=(1, 1, 1), bias=False)\n",
       "        (1): BatchNorm3d(176, eps=1e-05, momentum=0.1, affine=True, track_running_stats=True)\n",
       "        (2): ReLU(inplace=True)\n",
       "        (3): Conv3d(176, 176, kernel_size=(3, 3, 3), stride=(2, 2, 2), padding=(1, 1, 1), groups=176, bias=False)\n",
       "        (4): BatchNorm3d(176, eps=1e-05, momentum=0.1, affine=True, track_running_stats=True)\n",
       "        (5): Conv3d(176, 176, kernel_size=(1, 1, 1), stride=(1, 1, 1), bias=False)\n",
       "        (6): BatchNorm3d(176, eps=1e-05, momentum=0.1, affine=True, track_running_stats=True)\n",
       "        (7): ReLU(inplace=True)\n",
       "      )\n",
       "    )\n",
       "    (5): InvertedResidual(\n",
       "      (banch2): Sequential(\n",
       "        (0): Conv3d(176, 176, kernel_size=(1, 1, 1), stride=(1, 1, 1), bias=False)\n",
       "        (1): BatchNorm3d(176, eps=1e-05, momentum=0.1, affine=True, track_running_stats=True)\n",
       "        (2): ReLU(inplace=True)\n",
       "        (3): Conv3d(176, 176, kernel_size=(3, 3, 3), stride=(1, 1, 1), padding=(1, 1, 1), groups=176, bias=False)\n",
       "        (4): BatchNorm3d(176, eps=1e-05, momentum=0.1, affine=True, track_running_stats=True)\n",
       "        (5): Conv3d(176, 176, kernel_size=(1, 1, 1), stride=(1, 1, 1), bias=False)\n",
       "        (6): BatchNorm3d(176, eps=1e-05, momentum=0.1, affine=True, track_running_stats=True)\n",
       "        (7): ReLU(inplace=True)\n",
       "      )\n",
       "    )\n",
       "    (6): InvertedResidual(\n",
       "      (banch2): Sequential(\n",
       "        (0): Conv3d(176, 176, kernel_size=(1, 1, 1), stride=(1, 1, 1), bias=False)\n",
       "        (1): BatchNorm3d(176, eps=1e-05, momentum=0.1, affine=True, track_running_stats=True)\n",
       "        (2): ReLU(inplace=True)\n",
       "        (3): Conv3d(176, 176, kernel_size=(3, 3, 3), stride=(1, 1, 1), padding=(1, 1, 1), groups=176, bias=False)\n",
       "        (4): BatchNorm3d(176, eps=1e-05, momentum=0.1, affine=True, track_running_stats=True)\n",
       "        (5): Conv3d(176, 176, kernel_size=(1, 1, 1), stride=(1, 1, 1), bias=False)\n",
       "        (6): BatchNorm3d(176, eps=1e-05, momentum=0.1, affine=True, track_running_stats=True)\n",
       "        (7): ReLU(inplace=True)\n",
       "      )\n",
       "    )\n",
       "    (7): InvertedResidual(\n",
       "      (banch2): Sequential(\n",
       "        (0): Conv3d(176, 176, kernel_size=(1, 1, 1), stride=(1, 1, 1), bias=False)\n",
       "        (1): BatchNorm3d(176, eps=1e-05, momentum=0.1, affine=True, track_running_stats=True)\n",
       "        (2): ReLU(inplace=True)\n",
       "        (3): Conv3d(176, 176, kernel_size=(3, 3, 3), stride=(1, 1, 1), padding=(1, 1, 1), groups=176, bias=False)\n",
       "        (4): BatchNorm3d(176, eps=1e-05, momentum=0.1, affine=True, track_running_stats=True)\n",
       "        (5): Conv3d(176, 176, kernel_size=(1, 1, 1), stride=(1, 1, 1), bias=False)\n",
       "        (6): BatchNorm3d(176, eps=1e-05, momentum=0.1, affine=True, track_running_stats=True)\n",
       "        (7): ReLU(inplace=True)\n",
       "      )\n",
       "    )\n",
       "    (8): InvertedResidual(\n",
       "      (banch2): Sequential(\n",
       "        (0): Conv3d(176, 176, kernel_size=(1, 1, 1), stride=(1, 1, 1), bias=False)\n",
       "        (1): BatchNorm3d(176, eps=1e-05, momentum=0.1, affine=True, track_running_stats=True)\n",
       "        (2): ReLU(inplace=True)\n",
       "        (3): Conv3d(176, 176, kernel_size=(3, 3, 3), stride=(1, 1, 1), padding=(1, 1, 1), groups=176, bias=False)\n",
       "        (4): BatchNorm3d(176, eps=1e-05, momentum=0.1, affine=True, track_running_stats=True)\n",
       "        (5): Conv3d(176, 176, kernel_size=(1, 1, 1), stride=(1, 1, 1), bias=False)\n",
       "        (6): BatchNorm3d(176, eps=1e-05, momentum=0.1, affine=True, track_running_stats=True)\n",
       "        (7): ReLU(inplace=True)\n",
       "      )\n",
       "    )\n",
       "    (9): InvertedResidual(\n",
       "      (banch2): Sequential(\n",
       "        (0): Conv3d(176, 176, kernel_size=(1, 1, 1), stride=(1, 1, 1), bias=False)\n",
       "        (1): BatchNorm3d(176, eps=1e-05, momentum=0.1, affine=True, track_running_stats=True)\n",
       "        (2): ReLU(inplace=True)\n",
       "        (3): Conv3d(176, 176, kernel_size=(3, 3, 3), stride=(1, 1, 1), padding=(1, 1, 1), groups=176, bias=False)\n",
       "        (4): BatchNorm3d(176, eps=1e-05, momentum=0.1, affine=True, track_running_stats=True)\n",
       "        (5): Conv3d(176, 176, kernel_size=(1, 1, 1), stride=(1, 1, 1), bias=False)\n",
       "        (6): BatchNorm3d(176, eps=1e-05, momentum=0.1, affine=True, track_running_stats=True)\n",
       "        (7): ReLU(inplace=True)\n",
       "      )\n",
       "    )\n",
       "    (10): InvertedResidual(\n",
       "      (banch2): Sequential(\n",
       "        (0): Conv3d(176, 176, kernel_size=(1, 1, 1), stride=(1, 1, 1), bias=False)\n",
       "        (1): BatchNorm3d(176, eps=1e-05, momentum=0.1, affine=True, track_running_stats=True)\n",
       "        (2): ReLU(inplace=True)\n",
       "        (3): Conv3d(176, 176, kernel_size=(3, 3, 3), stride=(1, 1, 1), padding=(1, 1, 1), groups=176, bias=False)\n",
       "        (4): BatchNorm3d(176, eps=1e-05, momentum=0.1, affine=True, track_running_stats=True)\n",
       "        (5): Conv3d(176, 176, kernel_size=(1, 1, 1), stride=(1, 1, 1), bias=False)\n",
       "        (6): BatchNorm3d(176, eps=1e-05, momentum=0.1, affine=True, track_running_stats=True)\n",
       "        (7): ReLU(inplace=True)\n",
       "      )\n",
       "    )\n",
       "    (11): InvertedResidual(\n",
       "      (banch2): Sequential(\n",
       "        (0): Conv3d(176, 176, kernel_size=(1, 1, 1), stride=(1, 1, 1), bias=False)\n",
       "        (1): BatchNorm3d(176, eps=1e-05, momentum=0.1, affine=True, track_running_stats=True)\n",
       "        (2): ReLU(inplace=True)\n",
       "        (3): Conv3d(176, 176, kernel_size=(3, 3, 3), stride=(1, 1, 1), padding=(1, 1, 1), groups=176, bias=False)\n",
       "        (4): BatchNorm3d(176, eps=1e-05, momentum=0.1, affine=True, track_running_stats=True)\n",
       "        (5): Conv3d(176, 176, kernel_size=(1, 1, 1), stride=(1, 1, 1), bias=False)\n",
       "        (6): BatchNorm3d(176, eps=1e-05, momentum=0.1, affine=True, track_running_stats=True)\n",
       "        (7): ReLU(inplace=True)\n",
       "      )\n",
       "    )\n",
       "    (12): InvertedResidual(\n",
       "      (banch1): Sequential(\n",
       "        (0): Conv3d(352, 352, kernel_size=(3, 3, 3), stride=(2, 2, 2), padding=(1, 1, 1), groups=352, bias=False)\n",
       "        (1): BatchNorm3d(352, eps=1e-05, momentum=0.1, affine=True, track_running_stats=True)\n",
       "        (2): Conv3d(352, 352, kernel_size=(1, 1, 1), stride=(1, 1, 1), bias=False)\n",
       "        (3): BatchNorm3d(352, eps=1e-05, momentum=0.1, affine=True, track_running_stats=True)\n",
       "        (4): ReLU(inplace=True)\n",
       "      )\n",
       "      (banch2): Sequential(\n",
       "        (0): Conv3d(352, 352, kernel_size=(1, 1, 1), stride=(1, 1, 1), bias=False)\n",
       "        (1): BatchNorm3d(352, eps=1e-05, momentum=0.1, affine=True, track_running_stats=True)\n",
       "        (2): ReLU(inplace=True)\n",
       "        (3): Conv3d(352, 352, kernel_size=(3, 3, 3), stride=(2, 2, 2), padding=(1, 1, 1), groups=352, bias=False)\n",
       "        (4): BatchNorm3d(352, eps=1e-05, momentum=0.1, affine=True, track_running_stats=True)\n",
       "        (5): Conv3d(352, 352, kernel_size=(1, 1, 1), stride=(1, 1, 1), bias=False)\n",
       "        (6): BatchNorm3d(352, eps=1e-05, momentum=0.1, affine=True, track_running_stats=True)\n",
       "        (7): ReLU(inplace=True)\n",
       "      )\n",
       "    )\n",
       "    (13): InvertedResidual(\n",
       "      (banch2): Sequential(\n",
       "        (0): Conv3d(352, 352, kernel_size=(1, 1, 1), stride=(1, 1, 1), bias=False)\n",
       "        (1): BatchNorm3d(352, eps=1e-05, momentum=0.1, affine=True, track_running_stats=True)\n",
       "        (2): ReLU(inplace=True)\n",
       "        (3): Conv3d(352, 352, kernel_size=(3, 3, 3), stride=(1, 1, 1), padding=(1, 1, 1), groups=352, bias=False)\n",
       "        (4): BatchNorm3d(352, eps=1e-05, momentum=0.1, affine=True, track_running_stats=True)\n",
       "        (5): Conv3d(352, 352, kernel_size=(1, 1, 1), stride=(1, 1, 1), bias=False)\n",
       "        (6): BatchNorm3d(352, eps=1e-05, momentum=0.1, affine=True, track_running_stats=True)\n",
       "        (7): ReLU(inplace=True)\n",
       "      )\n",
       "    )\n",
       "    (14): InvertedResidual(\n",
       "      (banch2): Sequential(\n",
       "        (0): Conv3d(352, 352, kernel_size=(1, 1, 1), stride=(1, 1, 1), bias=False)\n",
       "        (1): BatchNorm3d(352, eps=1e-05, momentum=0.1, affine=True, track_running_stats=True)\n",
       "        (2): ReLU(inplace=True)\n",
       "        (3): Conv3d(352, 352, kernel_size=(3, 3, 3), stride=(1, 1, 1), padding=(1, 1, 1), groups=352, bias=False)\n",
       "        (4): BatchNorm3d(352, eps=1e-05, momentum=0.1, affine=True, track_running_stats=True)\n",
       "        (5): Conv3d(352, 352, kernel_size=(1, 1, 1), stride=(1, 1, 1), bias=False)\n",
       "        (6): BatchNorm3d(352, eps=1e-05, momentum=0.1, affine=True, track_running_stats=True)\n",
       "        (7): ReLU(inplace=True)\n",
       "      )\n",
       "    )\n",
       "    (15): InvertedResidual(\n",
       "      (banch2): Sequential(\n",
       "        (0): Conv3d(352, 352, kernel_size=(1, 1, 1), stride=(1, 1, 1), bias=False)\n",
       "        (1): BatchNorm3d(352, eps=1e-05, momentum=0.1, affine=True, track_running_stats=True)\n",
       "        (2): ReLU(inplace=True)\n",
       "        (3): Conv3d(352, 352, kernel_size=(3, 3, 3), stride=(1, 1, 1), padding=(1, 1, 1), groups=352, bias=False)\n",
       "        (4): BatchNorm3d(352, eps=1e-05, momentum=0.1, affine=True, track_running_stats=True)\n",
       "        (5): Conv3d(352, 352, kernel_size=(1, 1, 1), stride=(1, 1, 1), bias=False)\n",
       "        (6): BatchNorm3d(352, eps=1e-05, momentum=0.1, affine=True, track_running_stats=True)\n",
       "        (7): ReLU(inplace=True)\n",
       "      )\n",
       "    )\n",
       "  )\n",
       "  (conv_last): Sequential(\n",
       "    (0): Conv3d(704, 1024, kernel_size=(1, 1, 1), stride=(1, 1, 1), bias=False)\n",
       "    (1): BatchNorm3d(1024, eps=1e-05, momentum=0.1, affine=True, track_running_stats=True)\n",
       "    (2): ReLU(inplace=True)\n",
       "  )\n",
       "  (classifier): Identity()\n",
       ")"
      ]
     },
     "execution_count": 11,
     "metadata": {},
     "output_type": "execute_result"
    }
   ],
   "source": [
    "model.eval()"
   ]
  },
  {
   "cell_type": "markdown",
   "metadata": {},
   "source": [
    "### Folders"
   ]
  },
  {
   "cell_type": "code",
   "execution_count": 12,
   "metadata": {},
   "outputs": [],
   "source": [
    "train_folder = '../../Dataset/CASIA-FASD/train_release'\n",
    "test_folder = '../../Dataset/CASIA-FASD/test_release'\n",
    "mix_eval_folder = '../../Dataset/Mix/Validation/Face'"
   ]
  },
  {
   "cell_type": "code",
   "execution_count": 13,
   "metadata": {},
   "outputs": [],
   "source": [
    "from video_dataset import VideoDataset\n",
    "from torch.utils.data import DataLoader\n",
    "import matplotlib.pyplot as plt"
   ]
  },
  {
   "cell_type": "code",
   "execution_count": 14,
   "metadata": {},
   "outputs": [],
   "source": [
    "# train_dataset = VideoDataset(train_folder)\n",
    "# train_loader = DataLoader(train_dataset, batch_size=4, shuffle=False)"
   ]
  },
  {
   "cell_type": "code",
   "execution_count": 15,
   "metadata": {},
   "outputs": [],
   "source": [
    "# test_dataset = VideoDataset(test_folder)\n",
    "# test_loader = DataLoader(test_dataset, batch_size=4, shuffle=False)"
   ]
  },
  {
   "cell_type": "code",
   "execution_count": 16,
   "metadata": {},
   "outputs": [],
   "source": [
    "mix_eval_dataset = VideoDataset(mix_eval_folder)\n",
    "mix_eval_loader = DataLoader(mix_eval_dataset, batch_size=4, shuffle=False)"
   ]
  },
  {
   "cell_type": "markdown",
   "metadata": {},
   "source": [
    "##### Show sample of the first video"
   ]
  },
  {
   "cell_type": "code",
   "execution_count": 17,
   "metadata": {},
   "outputs": [],
   "source": [
    "# for frames, labels in train_loader:  # Unpack frames and labels\n",
    "#     for i in range(frames.size(1)):  # frames.size(1) gives the number of frames in the first video\n",
    "#         plt.imshow(frames[0][i].permute(1, 2, 0).numpy())  # Show the i-th frame of the first video\n",
    "#         plt.axis('off')  # Hide axis\n",
    "#         plt.title(f'Frame {i + 1} of First Video')\n",
    "#         plt.show()\n",
    "    \n",
    "#     break  # Exit after the first batch"
   ]
  },
  {
   "cell_type": "markdown",
   "metadata": {},
   "source": [
    "#### Check data shape"
   ]
  },
  {
   "cell_type": "code",
   "execution_count": 18,
   "metadata": {},
   "outputs": [],
   "source": [
    "# # Check the length of the train dataset\n",
    "# print(\"Number of videos in train dataset:\", len(train_dataset))\n",
    "\n",
    "# # Check the return value of the first item in the dataset\n",
    "# sample_frames, sample_label = train_dataset[0]  # Get the first video\n",
    "# print(\"Return value for the first video (frames, label):\", (sample_frames, sample_label))\n",
    "\n",
    "# # Check the shape of the frames\n",
    "# if isinstance(sample_frames, torch.Tensor):\n",
    "#     print(\"Shape of frames for the first video:\", sample_frames.shape)\n",
    "# else:\n",
    "#     print(\"The first video frames are not a tensor, inspect further.\")\n"
   ]
  },
  {
   "cell_type": "markdown",
   "metadata": {},
   "source": [
    "### Extract Features"
   ]
  },
  {
   "cell_type": "code",
   "execution_count": 19,
   "metadata": {},
   "outputs": [],
   "source": [
    "def feature_extract(loader):\n",
    "    features_list, labels_list, identity_list = [], [], []\n",
    "    with torch.no_grad():\n",
    "        for frames, labels, identity in loader:\n",
    "            batch_size = frames.size(0)\n",
    "            \n",
    "            # Reshape frames: [B, C, T, H, W]\n",
    "            frames = frames.view(batch_size, 3, frames.size(1), 112, 112)\n",
    "            \n",
    "            # Normalize pixel values to [0, 1]\n",
    "            frames = frames.float() / 255.0\n",
    "            \n",
    "            # Extract features using the model\n",
    "            features = model(frames)\n",
    "\n",
    "            features_list.append(features)\n",
    "            labels_list.append(labels)\n",
    "            identity_list.append(identity)\n",
    "\n",
    "    # Concatenate the lists into tensors\n",
    "    features = torch.cat(features_list, dim=0)  # Concatenate features\n",
    "    labels = torch.cat(labels_list, dim=0)      # Concatenate labels\n",
    "        \n",
    "    return features, labels, identity_list"
   ]
  },
  {
   "cell_type": "code",
   "execution_count": 20,
   "metadata": {},
   "outputs": [],
   "source": [
    "# train_features, train_labels = feature_extract(train_loader)"
   ]
  },
  {
   "cell_type": "code",
   "execution_count": 21,
   "metadata": {},
   "outputs": [],
   "source": [
    "# print(train_features.shape)\n",
    "# print(train_labels.shape)"
   ]
  },
  {
   "cell_type": "code",
   "execution_count": 22,
   "metadata": {},
   "outputs": [],
   "source": [
    "# test_features, test_labels = feature_extract(test_loader)"
   ]
  },
  {
   "cell_type": "code",
   "execution_count": 23,
   "metadata": {},
   "outputs": [],
   "source": [
    "# print(test_features.shape)\n",
    "# print(test_labels.shape)"
   ]
  },
  {
   "cell_type": "code",
   "execution_count": 24,
   "metadata": {},
   "outputs": [],
   "source": [
    "mix_model_features, mix_model_labels, mix_model_identities = feature_extract(mix_eval_loader)"
   ]
  },
  {
   "cell_type": "code",
   "execution_count": 25,
   "metadata": {},
   "outputs": [],
   "source": [
    "mix_features_np = mix_model_features.numpy()\n",
    "mix_labels_np = mix_model_labels.numpy()"
   ]
  },
  {
   "cell_type": "code",
   "execution_count": 26,
   "metadata": {},
   "outputs": [],
   "source": [
    "import numpy as np"
   ]
  },
  {
   "cell_type": "code",
   "execution_count": 27,
   "metadata": {},
   "outputs": [],
   "source": [
    "np.save('../../Dataset/Mix/Validation/face_features.npy', mix_features_np)\n",
    "np.save('../../Dataset/Mix/Validation/face_labels.npy', mix_labels_np)\n",
    "np.save('../../Dataset/Mix/Validation/face_identities.npy', mix_model_identities)"
   ]
  },
  {
   "cell_type": "markdown",
   "metadata": {},
   "source": [
    "### Evaluation"
   ]
  },
  {
   "cell_type": "code",
   "execution_count": 28,
   "metadata": {},
   "outputs": [],
   "source": [
    "# train_features_np = train_features.numpy()  # Convert training features to NumPy array\n",
    "# train_labels_np = train_labels.numpy()      # Convert training labels to NumPy array\n",
    "# test_features_np = test_features.numpy()    # Convert testing features to NumPy array\n",
    "# test_labels_np = test_labels.numpy()        # Convert testing labels to NumPy array"
   ]
  },
  {
   "cell_type": "code",
   "execution_count": 29,
   "metadata": {},
   "outputs": [],
   "source": [
    "# print(train_features_np.shape)\n",
    "# print(train_labels_np.shape)\n",
    "# print(test_features_np.shape)\n",
    "# print(test_labels_np.shape)"
   ]
  },
  {
   "cell_type": "code",
   "execution_count": 30,
   "metadata": {},
   "outputs": [],
   "source": [
    "# from xgboost import XGBClassifier\n",
    "# from sklearn.metrics import accuracy_score, classification_report"
   ]
  },
  {
   "cell_type": "code",
   "execution_count": 31,
   "metadata": {},
   "outputs": [],
   "source": [
    "# # Train an XGB classifier\n",
    "# xgb_classifier = XGBClassifier(use_label_encoder=False, eval_metric='logloss')\n",
    "# xgb_classifier.fit(train_features_np, train_labels)\n",
    "\n",
    "# # Test the SVM classifier on the test set\n",
    "# xgb_predictions = xgb_classifier.predict(test_features_np)\n",
    "\n",
    "# # Evaluate the classifier\n",
    "# accuracy = accuracy_score(test_labels, xgb_predictions)\n",
    "# print(f\"Accuracy: {accuracy * 100:.2f}%\")\n",
    "\n",
    "# # Print detailed classification report\n",
    "# print(classification_report(test_labels, xgb_predictions))"
   ]
  },
  {
   "cell_type": "code",
   "execution_count": 32,
   "metadata": {},
   "outputs": [],
   "source": [
    "# import numpy as np"
   ]
  },
  {
   "cell_type": "code",
   "execution_count": 33,
   "metadata": {},
   "outputs": [],
   "source": [
    "# # Calculate the counts\n",
    "# TP = np.sum((xgb_predictions == 1) & (test_labels_np == 1))  # True Positives\n",
    "# TN = np.sum((xgb_predictions == 0) & (test_labels_np == 0))  # True Negatives\n",
    "# FP = np.sum((xgb_predictions == 1) & (test_labels_np == 0))  # False Positives\n",
    "# FN = np.sum((xgb_predictions == 0) & (test_labels_np == 1))  # False Negatives\n",
    "\n",
    "# # Calculate FAR\n",
    "# FAR = FP / (FP + TN) if (FP + TN) > 0 else 0  # Avoid division by zero\n",
    "\n",
    "# print(f'False Acceptance Rate (FAR): {FAR * 100:.2f}%')"
   ]
  }
 ],
 "metadata": {
  "kernelspec": {
   "display_name": "Python",
   "language": "python",
   "name": "python3"
  },
  "language_info": {
   "codemirror_mode": {
    "name": "ipython",
    "version": 3
   },
   "file_extension": ".py",
   "mimetype": "text/x-python",
   "name": "python",
   "nbconvert_exporter": "python",
   "pygments_lexer": "ipython3",
   "version": "3.10.11"
  }
 },
 "nbformat": 4,
 "nbformat_minor": 2
}
