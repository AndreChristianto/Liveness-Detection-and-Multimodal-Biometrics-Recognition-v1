{
 "cells": [
  {
   "cell_type": "markdown",
   "metadata": {},
   "source": [
    "### Import Libraries"
   ]
  },
  {
   "cell_type": "code",
   "execution_count": 1,
   "metadata": {},
   "outputs": [],
   "source": [
    "import pandas as pd\n",
    "import scipy.fftpack\n",
    "from scipy.fftpack import dct\n",
    "import librosa\n",
    "import matplotlib.pyplot as plt\n",
    "import numpy as np\n",
    "import os"
   ]
  },
  {
   "cell_type": "markdown",
   "metadata": {},
   "source": [
    "### File Paths"
   ]
  },
  {
   "cell_type": "code",
   "execution_count": 2,
   "metadata": {},
   "outputs": [],
   "source": [
    "protocol_eval_file = '../Dataset/ASVSpoof/actual/protocol_V2/ASVspoof2017_V2_dev.trl.txt'\n",
    "folder_eval_file = '../Dataset/ASVSpoof/actual/ASVspoof2017_V2_dev'\n",
    "df_eval = pd.read_csv(protocol_eval_file, sep=' ')"
   ]
  },
  {
   "cell_type": "markdown",
   "metadata": {},
   "source": [
    "### File Check"
   ]
  },
  {
   "cell_type": "code",
   "execution_count": 3,
   "metadata": {},
   "outputs": [
    {
     "name": "stdout",
     "output_type": "stream",
     "text": [
      "         file_id     type speaker_id phrase_id environment_id playback_id  \\\n",
      "0  D_1000001.wav  genuine      M0011       S06              -           -   \n",
      "1  D_1000002.wav  genuine      M0011       S08              -           -   \n",
      "2  D_1000003.wav  genuine      M0011       S04              -           -   \n",
      "3  D_1000004.wav  genuine      M0011       S07              -           -   \n",
      "4  D_1000005.wav  genuine      M0011       S10              -           -   \n",
      "\n",
      "  recording_id  \n",
      "0            -  \n",
      "1            -  \n",
      "2            -  \n",
      "3            -  \n",
      "4            -  \n"
     ]
    }
   ],
   "source": [
    "print(df_eval.head())"
   ]
  },
  {
   "cell_type": "code",
   "execution_count": 4,
   "metadata": {},
   "outputs": [],
   "source": [
    "df_sorted = df_eval.sort_values(by='speaker_id')"
   ]
  },
  {
   "cell_type": "code",
   "execution_count": 5,
   "metadata": {},
   "outputs": [
    {
     "name": "stdout",
     "output_type": "stream",
     "text": [
      "            file_id     type speaker_id phrase_id environment_id playback_id  \\\n",
      "0     D_1000001.wav  genuine      M0011       S06              -           -   \n",
      "1271  D_1001272.wav    spoof      M0011       S06            E06         P09   \n",
      "1281  D_1001282.wav    spoof      M0011       S02            E06         P09   \n",
      "1283  D_1001284.wav    spoof      M0011       S03            E06         P09   \n",
      "1292  D_1001293.wav    spoof      M0011       S02            E06         P09   \n",
      "\n",
      "     recording_id  \n",
      "0               -  \n",
      "1271          R07  \n",
      "1281          R07  \n",
      "1283          R07  \n",
      "1292          R07  \n"
     ]
    }
   ],
   "source": [
    "print(df_sorted.head())"
   ]
  },
  {
   "cell_type": "code",
   "execution_count": 6,
   "metadata": {},
   "outputs": [
    {
     "name": "stdout",
     "output_type": "stream",
     "text": [
      "Unique count of names: 8\n"
     ]
    }
   ],
   "source": [
    "unique_names_count = df_sorted['speaker_id'].nunique()\n",
    "print(f\"Unique count of names: {unique_names_count}\")"
   ]
  },
  {
   "cell_type": "code",
   "execution_count": 7,
   "metadata": {},
   "outputs": [],
   "source": [
    "eval_labels = df_sorted['type'].map({'genuine' : 1, 'spoof' : 0})"
   ]
  },
  {
   "cell_type": "code",
   "execution_count": 8,
   "metadata": {},
   "outputs": [
    {
     "name": "stdout",
     "output_type": "stream",
     "text": [
      "            file_id     type speaker_id phrase_id environment_id playback_id  \\\n",
      "0     D_1000001.wav  genuine      M0011       S06              -           -   \n",
      "1271  D_1001272.wav    spoof      M0011       S06            E06         P09   \n",
      "1281  D_1001282.wav    spoof      M0011       S02            E06         P09   \n",
      "1283  D_1001284.wav    spoof      M0011       S03            E06         P09   \n",
      "1292  D_1001293.wav    spoof      M0011       S02            E06         P09   \n",
      "\n",
      "     recording_id  \n",
      "0               -  \n",
      "1271          R07  \n",
      "1281          R07  \n",
      "1283          R07  \n",
      "1292          R07  \n"
     ]
    }
   ],
   "source": [
    "print(df_sorted.head())"
   ]
  },
  {
   "cell_type": "code",
   "execution_count": 9,
   "metadata": {},
   "outputs": [],
   "source": [
    "# Step 2: Create a list of 30 identities and randomly select 24\n",
    "# identities = [f'{i}' for i in range(1, 31)]  # Example IDs: ID_1, ID_2, ..., ID_30\n",
    "# selected_identities = np.random.choice(identities, 24, replace=False)"
   ]
  },
  {
   "cell_type": "code",
   "execution_count": 10,
   "metadata": {},
   "outputs": [],
   "source": [
    "# print(selected_identities)"
   ]
  },
  {
   "cell_type": "code",
   "execution_count": 11,
   "metadata": {},
   "outputs": [],
   "source": [
    "selected_identities = [1, 2, 11, 17]"
   ]
  },
  {
   "cell_type": "code",
   "execution_count": 12,
   "metadata": {},
   "outputs": [],
   "source": [
    "# Step 3: Create a mapping from speaker IDs to the selected identities\n",
    "# Assuming you have 24 unique speaker IDs in the protocol DataFrame\n",
    "unique_speaker_ids = df_sorted['speaker_id'].unique()\n",
    "identity_mapping = dict(zip(unique_speaker_ids, selected_identities))"
   ]
  },
  {
   "cell_type": "code",
   "execution_count": 13,
   "metadata": {},
   "outputs": [
    {
     "name": "stdout",
     "output_type": "stream",
     "text": [
      "{'M0011': 1, 'M0012': 2, 'M0013': 11, 'M0014': 17}\n"
     ]
    }
   ],
   "source": [
    "print(identity_mapping)"
   ]
  },
  {
   "cell_type": "code",
   "execution_count": 14,
   "metadata": {},
   "outputs": [],
   "source": [
    "df_sorted['speaker_id'] = df_sorted['speaker_id'].replace(identity_mapping)"
   ]
  },
  {
   "cell_type": "code",
   "execution_count": 15,
   "metadata": {},
   "outputs": [
    {
     "name": "stdout",
     "output_type": "stream",
     "text": [
      "            file_id     type speaker_id phrase_id environment_id playback_id  \\\n",
      "0     D_1000001.wav  genuine          1       S06              -           -   \n",
      "1271  D_1001272.wav    spoof          1       S06            E06         P09   \n",
      "1281  D_1001282.wav    spoof          1       S02            E06         P09   \n",
      "1283  D_1001284.wav    spoof          1       S03            E06         P09   \n",
      "1292  D_1001293.wav    spoof          1       S02            E06         P09   \n",
      "...             ...      ...        ...       ...            ...         ...   \n",
      "1496  D_1001497.wav    spoof      M0018       S08            E04         P06   \n",
      "1495  D_1001496.wav    spoof      M0018       S01            E04         P06   \n",
      "1494  D_1001495.wav    spoof      M0018       S05            E04         P06   \n",
      "659   D_1000660.wav  genuine      M0018       S04              -           -   \n",
      "690   D_1000691.wav  genuine      M0018       S01              -           -   \n",
      "\n",
      "     recording_id  \n",
      "0               -  \n",
      "1271          R07  \n",
      "1281          R07  \n",
      "1283          R07  \n",
      "1292          R07  \n",
      "...           ...  \n",
      "1496          R02  \n",
      "1495          R02  \n",
      "1494          R02  \n",
      "659             -  \n",
      "690             -  \n",
      "\n",
      "[1710 rows x 7 columns]\n"
     ]
    }
   ],
   "source": [
    "print(df_sorted)"
   ]
  },
  {
   "cell_type": "code",
   "execution_count": 16,
   "metadata": {},
   "outputs": [],
   "source": [
    "# Define how many of each label you want\n",
    "num_genuine = 4\n",
    "num_spoof = 8"
   ]
  },
  {
   "cell_type": "code",
   "execution_count": 17,
   "metadata": {},
   "outputs": [],
   "source": [
    "selected_data = pd.DataFrame()"
   ]
  },
  {
   "cell_type": "code",
   "execution_count": 18,
   "metadata": {},
   "outputs": [
    {
     "name": "stdout",
     "output_type": "stream",
     "text": [
      "\n",
      "Selected DataFrame with 4 genuines and 8 spoofs per speaker:\n",
      "            file_id     type speaker_id phrase_id environment_id playback_id  \\\n",
      "21    D_1000022.wav  genuine          1       S02              -           -   \n",
      "32    D_1000033.wav  genuine          1       S03              -           -   \n",
      "61    D_1000062.wav  genuine          1       S03              -           -   \n",
      "114   D_1000115.wav  genuine          1       S09              -           -   \n",
      "1554  D_1001555.wav    spoof          1       S08            E05         P01   \n",
      "...             ...      ...        ...       ...            ...         ...   \n",
      "1679  D_1001680.wav    spoof      M0018       S06            E03         P08   \n",
      "1508  D_1001509.wav    spoof      M0018       S09            E04         P06   \n",
      "1204  D_1001205.wav    spoof      M0018       S06            E06         P09   \n",
      "1324  D_1001325.wav    spoof      M0018       S02            E06         P09   \n",
      "807   D_1000808.wav    spoof      M0018       S07            E16         P07   \n",
      "\n",
      "     recording_id  \n",
      "21              -  \n",
      "32              -  \n",
      "61              -  \n",
      "114             -  \n",
      "1554          R01  \n",
      "...           ...  \n",
      "1679          R04  \n",
      "1508          R02  \n",
      "1204          R05  \n",
      "1324          R07  \n",
      "807           R06  \n",
      "\n",
      "[96 rows x 7 columns]\n"
     ]
    }
   ],
   "source": [
    "# Loop over each speaker_id\n",
    "for speaker in df_sorted['speaker_id'].unique():\n",
    "    # Filter for the current speaker\n",
    "    speaker_data = df_sorted[df_sorted['speaker_id'] == speaker]\n",
    "    \n",
    "    # Select genuine and spoof samples\n",
    "    genuine_samples = speaker_data[speaker_data['type'] == 'genuine'].sample(n=min(num_genuine, len(speaker_data[speaker_data['type'] == 'genuine'])), random_state=1)\n",
    "    spoof_samples = speaker_data[speaker_data['type'] == 'spoof'].sample(n=min(num_spoof, len(speaker_data[speaker_data['type'] == 'spoof'])), random_state=1)\n",
    "    \n",
    "    # Append to the selected_data DataFrame\n",
    "    selected_data = pd.concat([selected_data, genuine_samples, spoof_samples])\n",
    "\n",
    "# Display the resulting DataFrame\n",
    "print(\"\\nSelected DataFrame with 4 genuines and 8 spoofs per speaker:\")\n",
    "print(selected_data)"
   ]
  },
  {
   "cell_type": "code",
   "execution_count": 19,
   "metadata": {},
   "outputs": [
    {
     "name": "stdout",
     "output_type": "stream",
     "text": [
      "speaker_id\n",
      "1     12\n",
      "2     12\n",
      "11    12\n",
      "17    12\n",
      "dtype: int64\n"
     ]
    }
   ],
   "source": [
    "# Specify the attributes you want to check\n",
    "attributes_to_check = selected_identities\n",
    "\n",
    "# Count the occurrences of the specified attributes in the 'label' column\n",
    "count_results = selected_data[selected_data['speaker_id'].isin(attributes_to_check)].groupby('speaker_id').size()\n",
    "\n",
    "# Display the results\n",
    "print(count_results)"
   ]
  },
  {
   "cell_type": "code",
   "execution_count": 26,
   "metadata": {},
   "outputs": [],
   "source": [
    "criteria = [1, 2, 11, 17]"
   ]
  },
  {
   "cell_type": "code",
   "execution_count": 27,
   "metadata": {},
   "outputs": [],
   "source": [
    "selected_data = selected_data[selected_data['speaker_id'].isin(criteria)]"
   ]
  },
  {
   "cell_type": "code",
   "execution_count": 29,
   "metadata": {},
   "outputs": [
    {
     "name": "stdout",
     "output_type": "stream",
     "text": [
      "(48, 7)\n"
     ]
    }
   ],
   "source": [
    "print(selected_data.shape)"
   ]
  },
  {
   "cell_type": "code",
   "execution_count": 28,
   "metadata": {},
   "outputs": [],
   "source": [
    "selected_data.to_csv('./multimodal-data/new_protocol_val.csv', index=False)  # index=False to exclude the index column"
   ]
  },
  {
   "cell_type": "code",
   "execution_count": 30,
   "metadata": {},
   "outputs": [],
   "source": [
    "test = pd.read_csv('./multimodal-data/new_protocol_val.csv')"
   ]
  },
  {
   "cell_type": "code",
   "execution_count": 31,
   "metadata": {},
   "outputs": [
    {
     "name": "stdout",
     "output_type": "stream",
     "text": [
      "          file_id     type  speaker_id phrase_id environment_id playback_id  \\\n",
      "0   D_1000022.wav  genuine           1       S02              -           -   \n",
      "1   D_1000033.wav  genuine           1       S03              -           -   \n",
      "2   D_1000062.wav  genuine           1       S03              -           -   \n",
      "3   D_1000115.wav  genuine           1       S09              -           -   \n",
      "4   D_1001555.wav    spoof           1       S08            E05         P01   \n",
      "5   D_1001174.wav    spoof           1       S02            E06         P09   \n",
      "6   D_1001250.wav    spoof           1       S10            E06         P09   \n",
      "7   D_1000948.wav    spoof           1       S02            E16         P07   \n",
      "8   D_1001682.wav    spoof           1       S03            E03         P08   \n",
      "9   D_1001635.wav    spoof           1       S01            E03         P08   \n",
      "10  D_1000904.wav    spoof           1       S03            E16         P07   \n",
      "11  D_1001294.wav    spoof           1       S09            E06         P09   \n",
      "12  D_1000162.wav  genuine           2       S04              -           -   \n",
      "13  D_1000147.wav  genuine           2       S05              -           -   \n",
      "14  D_1000152.wav  genuine           2       S05              -           -   \n",
      "15  D_1000150.wav  genuine           2       S01              -           -   \n",
      "16  D_1000854.wav    spoof           2       S08            E16         P07   \n",
      "17  D_1001045.wav    spoof           2       S06            E16         P07   \n",
      "18  D_1000817.wav    spoof           2       S10            E16         P07   \n",
      "19  D_1001329.wav    spoof           2       S08            E06         P09   \n",
      "20  D_1001140.wav    spoof           2       S06            E06         P09   \n",
      "21  D_1001102.wav    spoof           2       S10            E06         P09   \n",
      "22  D_1001236.wav    spoof           2       S08            E06         P09   \n",
      "23  D_1001710.wav    spoof           2       S06            E03         P08   \n",
      "24  D_1000197.wav  genuine          11       S02              -           -   \n",
      "25  D_1000219.wav  genuine          11       S08              -           -   \n",
      "26  D_1000200.wav  genuine          11       S05              -           -   \n",
      "27  D_1000194.wav  genuine          11       S01              -           -   \n",
      "28  D_1001641.wav    spoof          11       S10            E03         P08   \n",
      "29  D_1001363.wav    spoof          11       S01            E18         P05   \n",
      "30  D_1001078.wav    spoof          11       S01            E06         P09   \n",
      "31  D_1001648.wav    spoof          11       S01            E03         P08   \n",
      "32  D_1001409.wav    spoof          11       S09            E18         P05   \n",
      "33  D_1001599.wav    spoof          11       S09            E05         P01   \n",
      "34  D_1001451.wav    spoof          11       S10            E04         P06   \n",
      "35  D_1000762.wav    spoof          11       S04            E16         P07   \n",
      "36  D_1000318.wav  genuine          17       S08              -           -   \n",
      "37  D_1000316.wav  genuine          17       S03              -           -   \n",
      "38  D_1000326.wav  genuine          17       S02              -           -   \n",
      "39  D_1000309.wav  genuine          17       S09              -           -   \n",
      "40  D_1001607.wav    spoof          17       S09            E05         P01   \n",
      "41  D_1001297.wav    spoof          17       S05            E06         P09   \n",
      "42  D_1001677.wav    spoof          17       S05            E03         P08   \n",
      "43  D_1001107.wav    spoof          17       S05            E06         P09   \n",
      "44  D_1000822.wav    spoof          17       S05            E16         P07   \n",
      "45  D_1001227.wav    spoof          17       S09            E06         P09   \n",
      "46  D_1001582.wav    spoof          17       S05            E05         P01   \n",
      "47  D_1001012.wav    spoof          17       S05            E16         P07   \n",
      "\n",
      "   recording_id  \n",
      "0             -  \n",
      "1             -  \n",
      "2             -  \n",
      "3             -  \n",
      "4           R01  \n",
      "5           R05  \n",
      "6           R07  \n",
      "7           R05  \n",
      "8           R04  \n",
      "9           R04  \n",
      "10          R05  \n",
      "11          R07  \n",
      "12            -  \n",
      "13            -  \n",
      "14            -  \n",
      "15            -  \n",
      "16          R06  \n",
      "17          R07  \n",
      "18          R06  \n",
      "19          R07  \n",
      "20          R06  \n",
      "21          R06  \n",
      "22          R07  \n",
      "23          R04  \n",
      "24            -  \n",
      "25            -  \n",
      "26            -  \n",
      "27            -  \n",
      "28          R04  \n",
      "29          R03  \n",
      "30          R06  \n",
      "31          R04  \n",
      "32          R03  \n",
      "33          R01  \n",
      "34          R02  \n",
      "35          R06  \n",
      "36            -  \n",
      "37            -  \n",
      "38            -  \n",
      "39            -  \n",
      "40          R01  \n",
      "41          R07  \n",
      "42          R04  \n",
      "43          R06  \n",
      "44          R06  \n",
      "45          R05  \n",
      "46          R01  \n",
      "47          R07  \n"
     ]
    }
   ],
   "source": [
    "print(test)"
   ]
  },
  {
   "cell_type": "code",
   "execution_count": 32,
   "metadata": {},
   "outputs": [],
   "source": [
    "import os\n",
    "import shutil"
   ]
  },
  {
   "cell_type": "code",
   "execution_count": 35,
   "metadata": {},
   "outputs": [],
   "source": [
    "source_folder = '../Dataset/ASVSpoof/actual/ASVspoof2017_V2_dev'  # Change to your source folder\n",
    "destination_folder = '../Dataset/Mix/Validation/Voice'  # Change to your destination folder"
   ]
  },
  {
   "cell_type": "code",
   "execution_count": 36,
   "metadata": {},
   "outputs": [
    {
     "name": "stdout",
     "output_type": "stream",
     "text": [
      "Copied: D_1000022.wav\n",
      "Copied: D_1000033.wav\n",
      "Copied: D_1000062.wav\n",
      "Copied: D_1000115.wav\n",
      "Copied: D_1001555.wav\n",
      "Copied: D_1001174.wav\n",
      "Copied: D_1001250.wav\n",
      "Copied: D_1000948.wav\n",
      "Copied: D_1001682.wav\n",
      "Copied: D_1001635.wav\n",
      "Copied: D_1000904.wav\n",
      "Copied: D_1001294.wav\n",
      "Copied: D_1000162.wav\n",
      "Copied: D_1000147.wav\n",
      "Copied: D_1000152.wav\n",
      "Copied: D_1000150.wav\n",
      "Copied: D_1000854.wav\n",
      "Copied: D_1001045.wav\n",
      "Copied: D_1000817.wav\n",
      "Copied: D_1001329.wav\n",
      "Copied: D_1001140.wav\n",
      "Copied: D_1001102.wav\n",
      "Copied: D_1001236.wav\n",
      "Copied: D_1001710.wav\n",
      "Copied: D_1000197.wav\n",
      "Copied: D_1000219.wav\n",
      "Copied: D_1000200.wav\n",
      "Copied: D_1000194.wav\n",
      "Copied: D_1001641.wav\n",
      "Copied: D_1001363.wav\n",
      "Copied: D_1001078.wav\n",
      "Copied: D_1001648.wav\n",
      "Copied: D_1001409.wav\n",
      "Copied: D_1001599.wav\n",
      "Copied: D_1001451.wav\n",
      "Copied: D_1000762.wav\n",
      "Copied: D_1000318.wav\n",
      "Copied: D_1000316.wav\n",
      "Copied: D_1000326.wav\n",
      "Copied: D_1000309.wav\n",
      "Copied: D_1001607.wav\n",
      "Copied: D_1001297.wav\n",
      "Copied: D_1001677.wav\n",
      "Copied: D_1001107.wav\n",
      "Copied: D_1000822.wav\n",
      "Copied: D_1001227.wav\n",
      "Copied: D_1001582.wav\n",
      "Copied: D_1001012.wav\n"
     ]
    }
   ],
   "source": [
    "# Iterate over the file_id column and copy files\n",
    "for file_id in test['file_id']:\n",
    "    source_file_path = os.path.join(source_folder, file_id)\n",
    "    if os.path.exists(source_file_path):\n",
    "        shutil.copy(source_file_path, destination_folder)\n",
    "        print(f\"Copied: {file_id}\")\n",
    "    else:\n",
    "        print(f\"File not found: {file_id}\")"
   ]
  },
  {
   "cell_type": "code",
   "execution_count": null,
   "metadata": {},
   "outputs": [],
   "source": []
  }
 ],
 "metadata": {
  "kernelspec": {
   "display_name": "python-cpu",
   "language": "python",
   "name": "python3"
  },
  "language_info": {
   "codemirror_mode": {
    "name": "ipython",
    "version": 3
   },
   "file_extension": ".py",
   "mimetype": "text/x-python",
   "name": "python",
   "nbconvert_exporter": "python",
   "pygments_lexer": "ipython3",
   "version": "3.12.5"
  }
 },
 "nbformat": 4,
 "nbformat_minor": 2
}
