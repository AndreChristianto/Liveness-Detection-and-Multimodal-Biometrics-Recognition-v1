{
 "cells": [
  {
   "cell_type": "code",
   "execution_count": 1,
   "metadata": {},
   "outputs": [],
   "source": [
    "import numpy as np\n",
    "import os"
   ]
  },
  {
   "cell_type": "code",
   "execution_count": 2,
   "metadata": {},
   "outputs": [],
   "source": [
    "audio = np.load('../Dataset/Mix/Validation/new_lfcc.npy')\n",
    "audio_label = np.load('../Dataset/Mix/Validation/audio_labels.npy')\n",
    "audio_identity = np.load('../Dataset/Mix/Validation/audio_identity.npy')\n",
    "face = np.load('../Dataset/Mix/Validation/face_features.npy')\n",
    "face_label = np.load('../Dataset/Mix/Validation/face_labels.npy')\n",
    "face_identity = np.load('../Dataset/Mix/Validation/face_identities.npy')"
   ]
  },
  {
   "cell_type": "code",
   "execution_count": 3,
   "metadata": {},
   "outputs": [],
   "source": [
    "face_identity = face_identity.flatten()"
   ]
  },
  {
   "cell_type": "code",
   "execution_count": 4,
   "metadata": {},
   "outputs": [
    {
     "name": "stdout",
     "output_type": "stream",
     "text": [
      "['1' '1' '1' '1' '1' '1' '1' '1' '1' '1' '1' '1' '11' '11' '11' '11' '11'\n",
      " '11' '11' '11' '11' '11' '11' '11' '17' '17' '17' '17' '17' '17' '17'\n",
      " '17' '17' '17' '17' '17' '2' '2' '2' '2' '2' '2' '2' '2' '2' '2' '2' '2']\n"
     ]
    }
   ],
   "source": [
    "print(face_identity)"
   ]
  },
  {
   "cell_type": "code",
   "execution_count": 5,
   "metadata": {},
   "outputs": [],
   "source": [
    "# Convert to integers\n",
    "face_identity = face_identity.astype(int)"
   ]
  },
  {
   "cell_type": "code",
   "execution_count": 6,
   "metadata": {},
   "outputs": [
    {
     "name": "stdout",
     "output_type": "stream",
     "text": [
      "[ 1  1  1  1  1  1  1  1  1  1  1  1 11 11 11 11 11 11 11 11 11 11 11 11\n",
      " 17 17 17 17 17 17 17 17 17 17 17 17  2  2  2  2  2  2  2  2  2  2  2  2]\n"
     ]
    }
   ],
   "source": [
    "print(face_identity)"
   ]
  },
  {
   "cell_type": "code",
   "execution_count": 7,
   "metadata": {},
   "outputs": [
    {
     "name": "stdout",
     "output_type": "stream",
     "text": [
      "[ 1  1  1  1  1  1  1  1  1  1  1  1  2  2  2  2  2  2  2  2  2  2  2  2\n",
      " 11 11 11 11 11 11 11 11 11 11 11 11 17 17 17 17 17 17 17 17 17 17 17 17]\n"
     ]
    }
   ],
   "source": [
    "print(audio_identity)"
   ]
  },
  {
   "cell_type": "markdown",
   "metadata": {},
   "source": [
    "### Sort"
   ]
  },
  {
   "cell_type": "code",
   "execution_count": 8,
   "metadata": {},
   "outputs": [
    {
     "name": "stdout",
     "output_type": "stream",
     "text": [
      "Sorted Array 2: [0 0 0 0 0 0 0 0 0 0 0 0 0 0 0 0 0 0 0 0 0 0 0 0 0 0 0 0 0 0 0 0 1 1 1 1 1\n",
      " 1 1 1 1 1 1 1 1 1 1 1]\n",
      "Sorted Array 3: [ 1  1  1  1  1  1  1  1  2  2  2  2  2  2  2  2 11 11 11 11 11 11 11 11\n",
      " 17 17 17 17 17 17 17 17  1  1  1  1  2  2  2  2 11 11 11 11 17 17 17 17]\n"
     ]
    }
   ],
   "source": [
    "# Choose the array to sort by (e.g., array1)\n",
    "indices = np.lexsort((audio_identity, audio_label))\n",
    "\n",
    "# Sort all arrays based on the indices from the sorted array1\n",
    "audio = audio[indices]\n",
    "audio_label = audio_label[indices]\n",
    "audio_identity = audio_identity[indices]\n",
    "\n",
    "# print(\"Sorted Array 1:\", audio)\n",
    "print(\"Sorted Array 2:\", audio_label)\n",
    "print(\"Sorted Array 3:\", audio_identity)"
   ]
  },
  {
   "cell_type": "code",
   "execution_count": 9,
   "metadata": {},
   "outputs": [
    {
     "name": "stdout",
     "output_type": "stream",
     "text": [
      "Sorted Array 2: [0 0 0 0 0 0 0 0 0 0 0 0 0 0 0 0 0 0 0 0 0 0 0 0 0 0 0 0 0 0 0 0 1 1 1 1 1\n",
      " 1 1 1 1 1 1 1 1 1 1 1]\n",
      "Sorted Array 3: [ 1  1  1  1  1  1  1  1  2  2  2  2  2  2  2  2 11 11 11 11 11 11 11 11\n",
      " 17 17 17 17 17 17 17 17  1  1  1  1  2  2  2  2 11 11 11 11 17 17 17 17]\n"
     ]
    }
   ],
   "source": [
    "# Choose the array to sort by (e.g., array1)\n",
    "indices = np.lexsort((face_identity, face_label))\n",
    "\n",
    "# Sort all arrays based on the indices from the sorted array1\n",
    "face = face[indices]\n",
    "face_label = face_label[indices]\n",
    "face_identity = face_identity[indices]\n",
    "\n",
    "# print(\"Sorted Array 1:\", audio)\n",
    "print(\"Sorted Array 2:\", face_label)\n",
    "print(\"Sorted Array 3:\", face_identity)"
   ]
  },
  {
   "cell_type": "code",
   "execution_count": 10,
   "metadata": {},
   "outputs": [],
   "source": [
    "np.save('../Dataset/Mix/Validation/sorted_audio.npy', audio)\n",
    "np.save('../Dataset/Mix/Validation/sorted_audio_label.npy', audio_label)\n",
    "np.save('../Dataset/Mix/Validation/sorted_audio_identity.npy', audio_identity)\n",
    "np.save('../Dataset/Mix/Validation/sorted_face.npy', face)\n",
    "np.save('../Dataset/Mix/Validation/sorted_face_label.npy', face_label)\n",
    "np.save('../Dataset/Mix/Validation/sorted_face_identity.npy', face_identity)"
   ]
  }
 ],
 "metadata": {
  "kernelspec": {
   "display_name": "Python",
   "language": "python",
   "name": "python3"
  },
  "language_info": {
   "codemirror_mode": {
    "name": "ipython",
    "version": 3
   },
   "file_extension": ".py",
   "mimetype": "text/x-python",
   "name": "python",
   "nbconvert_exporter": "python",
   "pygments_lexer": "ipython3",
   "version": "3.10.11"
  }
 },
 "nbformat": 4,
 "nbformat_minor": 2
}
