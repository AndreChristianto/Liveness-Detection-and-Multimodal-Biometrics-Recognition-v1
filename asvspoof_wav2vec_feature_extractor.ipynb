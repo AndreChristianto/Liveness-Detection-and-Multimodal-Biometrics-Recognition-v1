{
 "cells": [
  {
   "cell_type": "code",
   "execution_count": 1,
   "metadata": {},
   "outputs": [
    {
     "name": "stderr",
     "output_type": "stream",
     "text": [
      "c:\\Users\\andre\\anaconda3\\envs\\python-cpu\\Lib\\site-packages\\tqdm\\auto.py:21: TqdmWarning: IProgress not found. Please update jupyter and ipywidgets. See https://ipywidgets.readthedocs.io/en/stable/user_install.html\n",
      "  from .autonotebook import tqdm as notebook_tqdm\n"
     ]
    }
   ],
   "source": [
    "# Import necessary libraries\n",
    "import os\n",
    "import numpy as np\n",
    "import librosa\n",
    "import torch\n",
    "from transformers import Wav2Vec2Processor, Wav2Vec2Model"
   ]
  },
  {
   "cell_type": "code",
   "execution_count": 9,
   "metadata": {},
   "outputs": [],
   "source": [
    "# Paths to folders\n",
    "folder_train_file = '../Dataset/ASVSpoof/actual/ASVspoof2017_V2_train'\n",
    "folder_dev_file = '../Dataset/ASVSpoof/actual/ASVspoof2017_V2_dev'\n",
    "folder_eval_file = '../Dataset/ASVSpoof/actual/ASVspoof2017_V2_eval'\n",
    "output_folder = './Voice_Liveness/Audio_Features/'"
   ]
  },
  {
   "cell_type": "code",
   "execution_count": 3,
   "metadata": {},
   "outputs": [
    {
     "name": "stderr",
     "output_type": "stream",
     "text": [
      "Some weights of Wav2Vec2Model were not initialized from the model checkpoint at facebook/wav2vec2-base-960h and are newly initialized: ['wav2vec2.masked_spec_embed']\n",
      "You should probably TRAIN this model on a down-stream task to be able to use it for predictions and inference.\n"
     ]
    }
   ],
   "source": [
    "# Initialize Wav2Vec2 processor and model\n",
    "processor = Wav2Vec2Processor.from_pretrained(\"facebook/wav2vec2-base-960h\")\n",
    "wav2vec_model = Wav2Vec2Model.from_pretrained(\"facebook/wav2vec2-base-960h\")"
   ]
  },
  {
   "cell_type": "code",
   "execution_count": 4,
   "metadata": {},
   "outputs": [],
   "source": [
    "# Define audio processing functions\n",
    "def normalize_audio(audio):\n",
    "    return audio / np.max(np.abs(audio))\n",
    "\n",
    "def pad_and_truncate_audio(audio, target_duration, sample_rate):\n",
    "    target_length = int(target_duration * sample_rate)\n",
    "    if len(audio) < target_length:\n",
    "        return np.pad(audio, (0, target_length - len(audio)), mode='constant')\n",
    "    return audio[:target_length]\n",
    "\n",
    "# Calculate median duration for padding/truncating\n",
    "def get_median_duration(folder):\n",
    "    durations = []\n",
    "    for file in os.listdir(folder):\n",
    "        file_path = os.path.join(folder, file)\n",
    "        audio, sr = librosa.load(file_path, sr=None)\n",
    "        durations.append(librosa.get_duration(y=audio, sr=sr))\n",
    "    return np.median(durations)"
   ]
  },
  {
   "cell_type": "code",
   "execution_count": null,
   "metadata": {},
   "outputs": [],
   "source": [
    "median_duration = get_median_duration(folder_train_file)"
   ]
  },
  {
   "cell_type": "code",
   "execution_count": 11,
   "metadata": {},
   "outputs": [],
   "source": [
    "def extract_features(folder, output_folder, processor, model, median_duration, name):\n",
    "    if not os.path.exists(output_folder):\n",
    "        os.makedirs(output_folder)\n",
    "\n",
    "    sample_rate=16000\n",
    "\n",
    "    features = []\n",
    "    for file in os.listdir(folder):\n",
    "        file_path = os.path.join(folder, file)\n",
    "        audio, sr = librosa.load(file_path, sr=sample_rate)\n",
    "        \n",
    "        # Normalize, pad & truncate\n",
    "        audio = normalize_audio(audio)\n",
    "        audio = pad_and_truncate_audio(audio, median_duration, sample_rate)\n",
    "        \n",
    "        # Preprocess audio with Wav2Vec2 processor\n",
    "        inputs = processor(audio, sampling_rate=sample_rate, return_tensors=\"pt\", padding=True)\n",
    "        \n",
    "        # Extract features from Wav2Vec2 model\n",
    "        with torch.no_grad():\n",
    "            outputs = model(inputs.input_values).last_hidden_state\n",
    "            pooled_output = outputs.mean(dim=1)  # Pool to a fixed-size representation\n",
    "            features.append(pooled_output.squeeze().numpy())\n",
    "    \n",
    "    # Save features to disk\n",
    "    feature_file = os.path.join(output_folder, name)\n",
    "    np.save(feature_file, features)\n",
    "    print(f\"Features saved to {feature_file}\")"
   ]
  },
  {
   "cell_type": "code",
   "execution_count": null,
   "metadata": {},
   "outputs": [
    {
     "name": "stdout",
     "output_type": "stream",
     "text": [
      "Features saved to ./Voice_Liveness/Audio_Features/train_features.npy\n"
     ]
    }
   ],
   "source": [
    "# Run feature extraction\n",
    "# extract_features(folder_train_file, output_folder, processor, wav2vec_model, median_duration)"
   ]
  },
  {
   "cell_type": "code",
   "execution_count": 12,
   "metadata": {},
   "outputs": [
    {
     "name": "stdout",
     "output_type": "stream",
     "text": [
      "Features saved to ./Voice_Liveness/Audio_Features/dev_features.npy\n",
      "Features saved to ./Voice_Liveness/Audio_Features/eval_features.npy\n"
     ]
    }
   ],
   "source": [
    "extract_features(folder_dev_file, output_folder, processor, wav2vec_model, median_duration, 'dev_features.npy')\n",
    "extract_features(folder_eval_file, output_folder, processor, wav2vec_model, median_duration, 'eval_features.npy')"
   ]
  }
 ],
 "metadata": {
  "kernelspec": {
   "display_name": "python-cpu",
   "language": "python",
   "name": "python3"
  },
  "language_info": {
   "codemirror_mode": {
    "name": "ipython",
    "version": 3
   },
   "file_extension": ".py",
   "mimetype": "text/x-python",
   "name": "python",
   "nbconvert_exporter": "python",
   "pygments_lexer": "ipython3",
   "version": "3.12.5"
  }
 },
 "nbformat": 4,
 "nbformat_minor": 2
}
